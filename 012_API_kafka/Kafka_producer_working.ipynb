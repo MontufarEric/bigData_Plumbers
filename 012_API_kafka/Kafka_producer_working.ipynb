{
 "cells": [
  {
   "cell_type": "code",
   "execution_count": 19,
   "metadata": {},
   "outputs": [],
   "source": [
    "from spotifyApp import *"
   ]
  },
  {
   "cell_type": "code",
   "execution_count": 20,
   "metadata": {},
   "outputs": [],
   "source": [
    "client_ID = '3e0b06af25054282a033710bb1736c42'\n",
    "client_secret = '37dc1dbb503242f59e9734d02f3067dc'"
   ]
  },
  {
   "cell_type": "code",
   "execution_count": 21,
   "metadata": {},
   "outputs": [],
   "source": [
    "spotify = SpotifyAPI(client_ID, client_secret)"
   ]
  },
  {
   "cell_type": "code",
   "execution_count": 46,
   "metadata": {},
   "outputs": [],
   "source": [
    "search_list = ['rey']"
   ]
  },
  {
   "cell_type": "code",
   "execution_count": 47,
   "metadata": {},
   "outputs": [
    {
     "name": "stdout",
     "output_type": "stream",
     "text": [
      "q=track%3Arey&type=track\n"
     ]
    },
    {
     "name": "stderr",
     "output_type": "stream",
     "text": [
      "ERROR:kafka.cluster:'song:   ' is not a valid topic name\n",
      "ERROR:kafka.cluster:'song:   ' is not a valid topic name\n"
     ]
    }
   ],
   "source": [
    "for word in search_list:\n",
    "    x = spotify.search({\"track\":word}, search_type=\"track\")\n",
    "    producer.send('testApi', json.dumps(x))\n",
    "    sleep(5)\n",
    "    "
   ]
  },
  {
   "cell_type": "code",
   "execution_count": 32,
   "metadata": {},
   "outputs": [
    {
     "name": "stderr",
     "output_type": "stream",
     "text": [
      "ERROR:kafka.cluster:'song:   ' is not a valid topic name\n",
      "ERROR:kafka.cluster:'song:   ' is not a valid topic name\n"
     ]
    }
   ],
   "source": [
    "from time import sleep\n",
    "from json import dumps\n",
    "from kafka import KafkaProducer"
   ]
  },
  {
   "cell_type": "code",
   "execution_count": 13,
   "metadata": {},
   "outputs": [
    {
     "name": "stderr",
     "output_type": "stream",
     "text": [
      "INFO:kafka.conn:<BrokerConnection node_id=bootstrap-0 host=localhost:9099 <connecting> [IPv4 ('127.0.0.1', 9099)]>: connecting to localhost:9099 [('127.0.0.1', 9099) IPv4]\n",
      "INFO:kafka.conn:Probing node bootstrap-0 broker version\n",
      "INFO:kafka.conn:<BrokerConnection node_id=bootstrap-0 host=localhost:9099 <connecting> [IPv4 ('127.0.0.1', 9099)]>: Connection complete.\n",
      "INFO:kafka.conn:Broker version identified as 1.0.0\n",
      "INFO:kafka.conn:Set configuration api_version=(1, 0, 0) to skip auto check_version requests on startup\n"
     ]
    }
   ],
   "source": [
    "producer = KafkaProducer(bootstrap_servers=['localhost:9099'],\n",
    "                         value_serializer=lambda x: \n",
    "                         dumps(x).encode('utf-8'))"
   ]
  },
  {
   "cell_type": "code",
   "execution_count": null,
   "metadata": {},
   "outputs": [],
   "source": []
  }
 ],
 "metadata": {
  "kernelspec": {
   "display_name": "Python 3",
   "language": "python",
   "name": "python3"
  },
  "language_info": {
   "codemirror_mode": {
    "name": "ipython",
    "version": 3
   },
   "file_extension": ".py",
   "mimetype": "text/x-python",
   "name": "python",
   "nbconvert_exporter": "python",
   "pygments_lexer": "ipython3",
   "version": "3.6.9"
  }
 },
 "nbformat": 4,
 "nbformat_minor": 4
}
