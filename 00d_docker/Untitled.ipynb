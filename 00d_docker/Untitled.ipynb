{
 "cells": [
  {
   "cell_type": "markdown",
   "metadata": {},
   "source": [
    "## Docker notes"
   ]
  },
  {
   "cell_type": "markdown",
   "metadata": {},
   "source": [
    "#### Dovker vs VMs \n",
    "\n",
    "VMs use hardware and Hypervisor to create a machine with its own OS. Expensive due to the entire OS running (GBs). \n",
    "\n",
    "Docker are containers that use the kernel of the OS (linux windows, Mac) to run a virtualized environment. Cheaper (MBs)"
   ]
  },
  {
   "cell_type": "markdown",
   "metadata": {},
   "source": [
    "TO download a Docker image, go to Docker hub, elect an image and download it in your command line. \n",
    "\n",
    "- docker ps  --> showsrunning containers\n",
    "\n",
    "\n",
    "- docker stop container_name\n",
    "\n",
    "\n",
    "- docker ps -a  --> to see if the container is done. \n",
    "\n",
    "\n",
    "- docker rm docker_name\n",
    "\n",
    "\n",
    "- docker ps -a --> remove a container \n",
    "\n",
    "\n",
    "- docker images ---> list images in the client\n",
    "\n",
    "\n",
    "- docker rmi image_name --> remove image when nobody is using it. \n",
    "\n",
    "\n",
    "\n",
    "- docker run image_name  --> downloads an image \n",
    "\n",
    "\n",
    "- docker pull image_name --> pulls the image but does not run it\n",
    "\n",
    "\n",
    "- docker exec container_name command  --> execute a command in your container \n",
    "\n"
   ]
  },
  {
   "cell_type": "markdown",
   "metadata": {},
   "source": [
    "In contrast to VMs, containers are not meant to run entire OS, the only run specific tasks. One the task is done, the container exits. \n",
    "\n",
    "We can run containers with docker run container_name. To run them as deamon we can add -d. When a container is running as deamon and we ant to bring it bakc to the terminal, we can use docker attach container_id (first 5 chars)\n",
    "\n",
    "When we run an app in docker that requires an input, we ccan use: \n",
    "\n",
    "- docker run -i container_name\n",
    "\n",
    "When the app requires a terminal to execute some code or ask for input, we can use:\n",
    "\n",
    "- docker run -it container_name\n",
    "\n",
    "\n",
    "Every docker container gets an ip address assigned to run the tasks. If we have a web app running we can acces it through this ip and the port number. This is an internal ip and it is only accesible from the docker host. We can do IP mapping to solve this issue: \n",
    "\n",
    "- docker run -p dockerHostPort:dockerContainerPort container_name\n",
    "\n",
    "This allows us to run different instances of the same application in different ports."
   ]
  },
  {
   "cell_type": "markdown",
   "metadata": {},
   "source": [
    "### dbs\n",
    "\n",
    "If you have a container with a database, if you delete that container, it goes away with your data. You can map local folders to folder in your container. \n",
    "\n",
    "- docker run -v /local/folder:/container/folder container_name\n",
    "\n",
    "you can get the details of your docker container in a json format by doing: \n",
    "\n",
    "- docker inspect container_name \n",
    "\n",
    "This inspection may include environment variables to modify some properties of my executon. \n",
    "\n",
    "\n",
    "we can also acces to the logs of our docker container: \n",
    "\n",
    "\n",
    "- docker logs container_name"
   ]
  },
  {
   "cell_type": "markdown",
   "metadata": {},
   "source": []
  },
  {
   "cell_type": "markdown",
   "metadata": {},
   "source": []
  },
  {
   "cell_type": "markdown",
   "metadata": {},
   "source": []
  },
  {
   "cell_type": "markdown",
   "metadata": {},
   "source": []
  },
  {
   "cell_type": "markdown",
   "metadata": {},
   "source": []
  },
  {
   "cell_type": "markdown",
   "metadata": {},
   "source": []
  },
  {
   "cell_type": "markdown",
   "metadata": {},
   "source": []
  },
  {
   "cell_type": "markdown",
   "metadata": {},
   "source": []
  },
  {
   "cell_type": "markdown",
   "metadata": {},
   "source": []
  },
  {
   "cell_type": "markdown",
   "metadata": {},
   "source": []
  },
  {
   "cell_type": "markdown",
   "metadata": {},
   "source": []
  },
  {
   "cell_type": "markdown",
   "metadata": {},
   "source": []
  },
  {
   "cell_type": "markdown",
   "metadata": {},
   "source": []
  },
  {
   "cell_type": "markdown",
   "metadata": {},
   "source": []
  },
  {
   "cell_type": "code",
   "execution_count": null,
   "metadata": {},
   "outputs": [],
   "source": [
    "l = [1,2,3,4,5,6,7,8,9]"
   ]
  },
  {
   "cell_type": "code",
   "execution_count": null,
   "metadata": {},
   "outputs": [],
   "source": [
    "[3,2,1,4,5,6,7,8,9]"
   ]
  },
  {
   "cell_type": "code",
   "execution_count": 18,
   "metadata": {},
   "outputs": [],
   "source": [
    "def rev(l,k):\n",
    "    return(l[:k][::-1]+(l[k:]))"
   ]
  },
  {
   "cell_type": "code",
   "execution_count": null,
   "metadata": {},
   "outputs": [],
   "source": [
    "rev"
   ]
  },
  {
   "cell_type": "code",
   "execution_count": null,
   "metadata": {},
   "outputs": [],
   "source": []
  },
  {
   "cell_type": "code",
   "execution_count": null,
   "metadata": {},
   "outputs": [],
   "source": []
  },
  {
   "cell_type": "code",
   "execution_count": null,
   "metadata": {},
   "outputs": [],
   "source": []
  },
  {
   "cell_type": "code",
   "execution_count": null,
   "metadata": {},
   "outputs": [],
   "source": []
  },
  {
   "cell_type": "code",
   "execution_count": null,
   "metadata": {},
   "outputs": [],
   "source": []
  },
  {
   "cell_type": "code",
   "execution_count": null,
   "metadata": {},
   "outputs": [],
   "source": []
  }
 ],
 "metadata": {
  "kernelspec": {
   "display_name": "Python 3",
   "language": "python",
   "name": "python3"
  },
  "language_info": {
   "codemirror_mode": {
    "name": "ipython",
    "version": 3
   },
   "file_extension": ".py",
   "mimetype": "text/x-python",
   "name": "python",
   "nbconvert_exporter": "python",
   "pygments_lexer": "ipython3",
   "version": "3.6.9"
  }
 },
 "nbformat": 4,
 "nbformat_minor": 4
}
