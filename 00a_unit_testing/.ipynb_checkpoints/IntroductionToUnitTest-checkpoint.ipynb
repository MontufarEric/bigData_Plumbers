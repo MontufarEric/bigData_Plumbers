{
 "cells": [
  {
   "cell_type": "markdown",
   "metadata": {},
   "source": [
    "# Introdction to Unit Testing in Python \n",
    "#### Eric Solis Montufar"
   ]
  },
  {
   "cell_type": "markdown",
   "metadata": {},
   "source": [
    "### The Software Development Life Cycle"
   ]
  },
  {
   "cell_type": "markdown",
   "metadata": {},
   "source": [
    "Unit testing is part of the Software Development Life Cycle (SDLC). The SDLG is a process used in software development to design, develop and test software, and its purpose is to produce high-quality software that fulfills the expectations and adjusts to the times and cost estimates. "
   ]
  },
  {
   "cell_type": "markdown",
   "metadata": {},
   "source": [
    "![Micro Serivices Architecture](SDLC_-_Software_Development_Life_Cycle.jpg)"
   ]
  },
  {
   "cell_type": "markdown",
   "metadata": {},
   "source": [
    "### Testing Phase in the SDLC"
   ]
  },
  {
   "cell_type": "markdown",
   "metadata": {},
   "source": [
    "The main goal of the testing stage is to report, monitor and retest software until they reach the quality standards defined in the requirements. Testing helps to catch errors in the code at the early stages to minimize the cost and time of resolving them. \n",
    "\n",
    "The testing phase is an important element of the SDLC. These processes are executed sequentially and methodically to ensure the fulfillment of all the requirements of the software application. This stage is usually divided into four main phases: \n",
    "\n",
    "- Unit Testing: this is a test performed in smaller components of the code. This is usually done to single functions or methods to ensure that each unit of software is working as it should. \n",
    "\n",
    "\n",
    "- Integration Testing: This stage of the testing phase focuses on testing different modules working together. This step is necessary to make sure that the integration of the modules are working properly. \n",
    "\n",
    "\n",
    "- System Testing: System testing is the stage where the parts are put together to test them as a single piece of software. Here, the interaction of the pieces is evaluated as well as the performance, reliability, and security of the integrated system.\n",
    "\n",
    "\n",
    "- User acceptance Test: Here, customers evaluate the components of the application to see whether it meets their requirements. At this point, users can ask the development team to do modifications if needed. \n",
    "\n",
    "In this article, we will only focus on the testing stage of the SDLC."
   ]
  },
  {
   "cell_type": "markdown",
   "metadata": {},
   "source": [
    "![Stages of the testing stage in the SDLC](Capture6661.jpg)"
   ]
  },
  {
   "cell_type": "markdown",
   "metadata": {},
   "source": [
    "Working on an application without unit test, may turn into a very difficult task to make a major change or addition to your project later on down the road without introducing other problems. With the unit tests in place, you can confidently add functionality to your project later on and ensure that all the previous components are still valid."
   ]
  },
  {
   "cell_type": "markdown",
   "metadata": {},
   "source": [
    "### Hands on"
   ]
  },
  {
   "cell_type": "markdown",
   "metadata": {},
   "source": [
    "First, we have to create the code we want to test. For this, we are going to use a simple calcultor with the basic operations (addition, substraction, multiplication and division)."
   ]
  },
  {
   "cell_type": "code",
   "execution_count": 6,
   "metadata": {},
   "outputs": [],
   "source": [
    "class Calculator: \n",
    "    def add(x, y):\n",
    "    #     Addition Function\n",
    "        return x + y\n",
    "\n",
    "\n",
    "    def subtract(x, y):\n",
    "    #     Subtraction Function\n",
    "        return x - y\n",
    "\n",
    "\n",
    "    def multiply(x, y):\n",
    "    #     Multiplication Function\n",
    "        return x * y\n",
    "\n",
    "\n",
    "    def divide(x, y):\n",
    "    #     Division Function\n",
    "        if y == 0:\n",
    "            raise ValueError('Can not divide by zero!')\n",
    "        return x / y"
   ]
  },
  {
   "cell_type": "markdown",
   "metadata": {},
   "source": [
    "Once we have the python file we want to test. We can start to define the cases we want to test and work on the testing script. \n",
    "\n",
    "For this:\n",
    "\n",
    "1. Import the unittest library and the class from the python file we want to test.\n",
    "\n",
    "\n",
    "2. Define a class with the tester itself extending from unittest.TestCase. \n",
    "\n",
    "\n",
    "3. Define the methods for testing every module of your code. For this example, we test the four operations included in our calculator app.\n",
    "\n",
    "\n",
    "4. Make sure to test with different cases that could break your code. \n"
   ]
  },
  {
   "cell_type": "markdown",
   "metadata": {},
   "source": [
    "The TestCase class provides several assert methods to check for and report failures. The following table lists the most commonly used methods: "
   ]
  },
  {
   "cell_type": "markdown",
   "metadata": {},
   "source": [
    "![asset table](cap1.png)"
   ]
  },
  {
   "cell_type": "markdown",
   "metadata": {},
   "source": [
    "Here, we are going to use the assertEqual statement to test whether the result of the modules is equal to the expected result for each operation. In a separate python file we create a python script for the tester. "
   ]
  },
  {
   "cell_type": "code",
   "execution_count": 4,
   "metadata": {},
   "outputs": [],
   "source": [
    "import unittest\n",
    "from Calculator import Calculator as calc\n",
    "\n",
    "\n",
    "class TestCalc(unittest.TestCase):\n",
    "\n",
    "\n",
    "    def test_add(self):\n",
    "        self.assertEqual(calc.add(1, 5), 6)\n",
    "        self.assertEqual(calc.add(-1, 2), 1)\n",
    "        self.assertEqual(calc.add(-1, -3), -4)\n",
    "\n",
    "    def test_subtract(self):\n",
    "        self.assertEqual(calc.subtract(10, 2), 8)\n",
    "        self.assertEqual(calc.subtract(-1, 3), -4)\n",
    "        self.assertEqual(calc.subtract(-1, -1), 0)\n",
    "\n",
    "    def test_multiply(self):\n",
    "        self.assertEqual(calc.multiply(10, 3), 30)\n",
    "        self.assertEqual(calc.multiply(-1, 2), -2)\n",
    "        self.assertEqual(calc.multiply(-1, -2), 2)\n",
    "\n",
    "    def test_divide(self):\n",
    "        self.assertEqual(calc.divide(10, 5), 2)\n",
    "        self.assertEqual(calc.divide(-1, 1), -1)\n",
    "        self.assertEqual(calc.divide(-1, -1), 1)\n",
    "        self.assertEqual(calc.divide(5, 2), 2.5)\n",
    "\n",
    "            \n",
    "if __name__ == '__main__':\n",
    "    unittest.main()"
   ]
  },
  {
   "cell_type": "markdown",
   "metadata": {},
   "source": [
    "Once we run out tester, it will perform the unit tests that we defined for each of our functions in the Calculator class.\n",
    "\n",
    "\n",
    "When one of the units test fail, we see something like this: "
   ]
  },
  {
   "cell_type": "markdown",
   "metadata": {},
   "source": [
    "![test failed](failed.png)"
   ]
  },
  {
   "cell_type": "markdown",
   "metadata": {},
   "source": [
    "When the tests succeeded, the see just a summary of the performed tests like this: "
   ]
  },
  {
   "cell_type": "markdown",
   "metadata": {},
   "source": [
    "![test succeded](succed.png)"
   ]
  },
  {
   "cell_type": "markdown",
   "metadata": {},
   "source": [
    "### Conclusions"
   ]
  },
  {
   "cell_type": "markdown",
   "metadata": {},
   "source": [
    "The unit test is an essential stage in the software development life cycle. This plays an important role when adding functionalities or modifying existing pieces of code. As we saw in this introduction to unit test, implementing a tester can be done easily with the unittest library in python. "
   ]
  }
 ],
 "metadata": {
  "kernelspec": {
   "display_name": "Python 3",
   "language": "python",
   "name": "python3"
  },
  "language_info": {
   "codemirror_mode": {
    "name": "ipython",
    "version": 3
   },
   "file_extension": ".py",
   "mimetype": "text/x-python",
   "name": "python",
   "nbconvert_exporter": "python",
   "pygments_lexer": "ipython3",
   "version": "3.6.9"
  }
 },
 "nbformat": 4,
 "nbformat_minor": 4
}
