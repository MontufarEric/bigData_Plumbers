{
 "cells": [
  {
   "cell_type": "markdown",
   "metadata": {},
   "source": [
    "# Databases"
   ]
  },
  {
   "cell_type": "markdown",
   "metadata": {},
   "source": [
    "A place to store information in a structured or semi structured way. You can do queries in databases.  \n",
    "\n",
    "### Relational database \n",
    "\n",
    "Are composed of entities and attributes. Entities are examples in our database and attributes describe those entities. In table terms, entities are rows and attributes are columns. We can specify the EntitType (user,car, objects in our table) and AttributeType the data type of the attribute (Int, datetime, varchar).\n",
    "\n",
    "### RDBMS\n",
    "\n",
    "Uses our data and manages it. Allows us to look at the data in an organized way, do queries. Allows us to change the way the data is presented (view mechanism). Also adds a layer of security with different profiles that give different privileges to the users. Allows us to do transactions. Examples --> mySQL, SQLserver, oracle. \n",
    "\n",
    "Basically the RDBMS takes data from different pars of your disk and out that together in tables. \n",
    "\n",
    "\n",
    "### SQL\n",
    "\n",
    "Structured Querying Language: Programming languague for querying fro databases usign simple english words. Defines the database structure (DDL), manipulates the data(DML). Data definition gives the structure for the tables and the relation between tables (CREATE, UPDATE). An the DML acts inside the tables. \n",
    "\n",
    "### Data Integrity\n",
    "\n",
    "\n",
    "Is about having the correct information in your tables. TO have the proper relationships between tables conecting the information properly. \n",
    "\n",
    "- Entity integrity: Having unique entities. For this, we use an Id.\n",
    "\n",
    "\n",
    "- Referential intrgrity: When we reference an Id of another table we have to be an entity in the other table with that Id. We can solve this by implementing foreign key constraints. \n",
    "\n",
    "\n",
    "- Domain Integrity: The acceptable values for a column should be defined and consistent (5 digits for zip code, telephone format). \n",
    "\n",
    "\n"
   ]
  },
  {
   "cell_type": "markdown",
   "metadata": {},
   "source": [
    "### Databace terms\n",
    " \n",
    "- Anomaly: Error within our data integrity. Something that goes awar from the normal. \n",
    "\n",
    "- File: another name for table\n",
    "\n",
    "- Record: anothe name for entity\n",
    "\n",
    "- field: Another name for column \n",
    "\n",
    "- value: a particular field for a column and row\n",
    "\n",
    "- entry: a row\n",
    "\n",
    "- schema: The structure of our database\n",
    "\n",
    "- DDL: Data definition language (parto of SQL) defines the structure of our database. \n",
    "\n",
    "- DML: Used to insert values in our tables. \n"
   ]
  },
  {
   "cell_type": "markdown",
   "metadata": {},
   "source": [
    "### Atomic Values \n",
    "\n",
    "Every column stores only one thing. If the column is about name, we should break that up to make it two/three columns (firsr_name, middle_name, last_name). Avoid storing more than one value in the columns. \n",
    "\n",
    "### Relationships \n",
    "\n",
    "In databases, tables are connected. There are three types of relationships: \n",
    "\n",
    "- One to one: One entity has a connection with another entity. Like one person attached to one SSN. \n",
    "\n",
    "- One to many: One entitiy can have a relationship to many entities only in one direction. An user can have many comments in a video, but a comment can be attached only to one user. \n",
    "\n",
    "- Many to many: We have an entity attached to many entitites in both directions. Many students are linked to a course, and each course is atached to many students.  THIS RELATIONSHIPS DO NOT WORK IN RDBs.\n",
    "\n",
    "\n",
    "### Designing relationships \n",
    "\n",
    "- one to one: If one person drives only one car in a company, we can have two tables car and person. Person table has carId column and that is how bot are linked. \n",
    "\n",
    "- one to many: What if an user can drive many cars. We keep user table. In the car Id we add an user Id to the car table. for each car we add an userId that can be repeated for different cars. The userId in the car table is a foreign key pointing to the primary table. The main table is the parent table and the table with the foreign key is the child table pointing back to the parent. The child tables inherit a key (as a foreign key pointing to the primary key) from the parent. \n",
    "\n",
    "- many to many: For this we need an intermeidiary table or junction table to connect our tables. We have two 1:many tables pointing to the intermediate table. The intermeditate table has foreign keys from both classes. "
   ]
  },
  {
   "cell_type": "markdown",
   "metadata": {},
   "source": [
    "### KEYS\n",
    "\n",
    "keys are unique , immutable (we dont want to update foreign keys every time), not null. Keys are a type of index to query data. \n",
    "\n",
    "### Look up tables\n",
    "\n",
    "We link tables by an Id. Instead of adding the name of a category for each element in a table, we create a separate table with categoryId, category and link it with the main table with the Id. This protects our values over incorrect data and improves the modifications, imporves the speed and functionality of our database and make our db more scalable. \n",
    "\n",
    "### Keys\n",
    "\n",
    "Here we describe the different types of keys: \n",
    "\n",
    "- Superkey: any number of columns that forces every row to be unique. This could be an Id that. The question for a superkey is Can every row can be unique always?  \n",
    "\n",
    "- Candidate key: Candidate key is the least number of columns that can make every row unique. The question here is How many columns are needed to make every row unique always?. We can have more than one candidate key. \n",
    "\n",
    "- Primary key: Within the candidate keys, we select one, the one that better differentiates the data in our db. \n",
    "\n",
    "\n",
    "- Alternate keys: the candidate keys that were not taken as primary keys. \n",
    "\n",
    "- Surrogate key: This is a type of primary key. This is a created primary key. Usually IDs or autoincremented numbers and are private to everyone except for those working with the database. This are artificially created to make the records unique. \n",
    "\n",
    "- Natural Keys: This is a type of primary key. This is naturally in the database. We found this when creating the database and works as primary key and add information to your entities. "
   ]
  },
  {
   "cell_type": "markdown",
   "metadata": {},
   "source": []
  },
  {
   "cell_type": "markdown",
   "metadata": {},
   "source": []
  },
  {
   "cell_type": "markdown",
   "metadata": {},
   "source": []
  },
  {
   "cell_type": "markdown",
   "metadata": {},
   "source": []
  },
  {
   "cell_type": "markdown",
   "metadata": {},
   "source": []
  },
  {
   "cell_type": "markdown",
   "metadata": {},
   "source": []
  },
  {
   "cell_type": "markdown",
   "metadata": {},
   "source": []
  },
  {
   "cell_type": "markdown",
   "metadata": {},
   "source": []
  },
  {
   "cell_type": "markdown",
   "metadata": {},
   "source": []
  },
  {
   "cell_type": "markdown",
   "metadata": {},
   "source": []
  },
  {
   "cell_type": "markdown",
   "metadata": {},
   "source": []
  },
  {
   "cell_type": "markdown",
   "metadata": {},
   "source": []
  },
  {
   "cell_type": "markdown",
   "metadata": {},
   "source": []
  },
  {
   "cell_type": "markdown",
   "metadata": {},
   "source": []
  },
  {
   "cell_type": "markdown",
   "metadata": {},
   "source": []
  },
  {
   "cell_type": "markdown",
   "metadata": {},
   "source": []
  },
  {
   "cell_type": "markdown",
   "metadata": {},
   "source": []
  },
  {
   "cell_type": "markdown",
   "metadata": {},
   "source": []
  }
 ],
 "metadata": {
  "kernelspec": {
   "display_name": "Python 3",
   "language": "python",
   "name": "python3"
  },
  "language_info": {
   "codemirror_mode": {
    "name": "ipython",
    "version": 3
   },
   "file_extension": ".py",
   "mimetype": "text/x-python",
   "name": "python",
   "nbconvert_exporter": "python",
   "pygments_lexer": "ipython3",
   "version": "3.6.9"
  }
 },
 "nbformat": 4,
 "nbformat_minor": 4
}
