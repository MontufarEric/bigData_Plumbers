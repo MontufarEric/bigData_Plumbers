{
 "cells": [
  {
   "cell_type": "markdown",
   "metadata": {},
   "source": [
    "## Data Challenge - Weather in Australia\n",
    "\n",
    "In this section, we want you to use the skills from previous labs to extract interesting insights from the \"Rain in Australia\" dataset. The dataset can be found in [here](https://www.kaggle.com/jsphyg/weather-dataset-rattle-package) in Kaggle. You will need to sign up on Kaggle, if you don't have an account yet. If you are interested about data, you must have a Kaggle acount. So if you don't have one yet, consider this a great tip!\n",
    "\n",
    "To help you get started, this notebook provides a few basic code. Here, I downloaded the data and uploaded it in a folder called weather_aus in my databricks account."
   ]
  },
  {
   "cell_type": "code",
   "execution_count": 2,
   "metadata": {},
   "outputs": [
    {
     "data": {
      "text/html": [
       "<style scoped>\n",
       "  .ansiout {\n",
       "    display: block;\n",
       "    unicode-bidi: embed;\n",
       "    white-space: pre-wrap;\n",
       "    word-wrap: break-word;\n",
       "    word-break: break-all;\n",
       "    font-family: \"Source Code Pro\", \"Menlo\", monospace;;\n",
       "    font-size: 13px;\n",
       "    color: #555;\n",
       "    margin-left: 4px;\n",
       "    line-height: 19px;\n",
       "  }\n",
       "</style>\n",
       "<div class=\"ansiout\"></div>"
      ]
     },
     "metadata": {},
     "output_type": "display_data"
    }
   ],
   "source": [
    "# Similar to SparkContext, for SparkSQL you need a SparkSession\n",
    "from pyspark.sql import SparkSession\n",
    "# Also all the functions (select, where, groupby) needs to be imported\n",
    "from pyspark.sql.functions import *\n",
    "from pyspark.sql.types import *"
   ]
  },
  {
   "cell_type": "code",
   "execution_count": 3,
   "metadata": {},
   "outputs": [
    {
     "data": {
      "text/html": [
       "<style scoped>\n",
       "  .ansiout {\n",
       "    display: block;\n",
       "    unicode-bidi: embed;\n",
       "    white-space: pre-wrap;\n",
       "    word-wrap: break-word;\n",
       "    word-break: break-all;\n",
       "    font-family: \"Source Code Pro\", \"Menlo\", monospace;;\n",
       "    font-size: 13px;\n",
       "    color: #555;\n",
       "    margin-left: 4px;\n",
       "    line-height: 19px;\n",
       "  }\n",
       "</style>\n",
       "<div class=\"ansiout\"></div>"
      ]
     },
     "metadata": {},
     "output_type": "display_data"
    }
   ],
   "source": [
    "# instantiate spark session\n",
    "spark = SparkSession.builder.getOrCreate()"
   ]
  },
  {
   "cell_type": "code",
   "execution_count": 4,
   "metadata": {},
   "outputs": [
    {
     "data": {
      "text/html": [
       "<style scoped>\n",
       "  .ansiout {\n",
       "    display: block;\n",
       "    unicode-bidi: embed;\n",
       "    white-space: pre-wrap;\n",
       "    word-wrap: break-word;\n",
       "    word-break: break-all;\n",
       "    font-family: \"Source Code Pro\", \"Menlo\", monospace;;\n",
       "    font-size: 13px;\n",
       "    color: #555;\n",
       "    margin-left: 4px;\n",
       "    line-height: 19px;\n",
       "  }\n",
       "</style>\n",
       "<div class=\"ansiout\"></div>"
      ]
     },
     "metadata": {},
     "output_type": "display_data"
    }
   ],
   "source": [
    "# read weather data\n",
    "weather_df = spark.read.csv(\"/FileStore/tables/weather_aus/weatherAUS.csv\", header=True)"
   ]
  },
  {
   "cell_type": "code",
   "execution_count": 5,
   "metadata": {},
   "outputs": [
    {
     "data": {
      "text/html": [
       "<style scoped>\n",
       "  .table-result-container {\n",
       "    max-height: 300px;\n",
       "    overflow: auto;\n",
       "  }\n",
       "  table, th, td {\n",
       "    border: 1px solid black;\n",
       "    border-collapse: collapse;\n",
       "  }\n",
       "  th, td {\n",
       "    padding: 5px;\n",
       "  }\n",
       "  th {\n",
       "    text-align: left;\n",
       "  }\n",
       "</style><div class='table-result-container'><table class='table-result'><thead style='background-color: white'><tr><th>Date</th><th>Location</th><th>MinTemp</th><th>MaxTemp</th><th>Rainfall</th><th>Evaporation</th><th>Sunshine</th><th>WindGustDir</th><th>WindGustSpeed</th><th>WindDir9am</th><th>WindDir3pm</th><th>WindSpeed9am</th><th>WindSpeed3pm</th><th>Humidity9am</th><th>Humidity3pm</th><th>Pressure9am</th><th>Pressure3pm</th><th>Cloud9am</th><th>Cloud3pm</th><th>Temp9am</th><th>Temp3pm</th><th>RainToday</th><th>RISK_MM</th><th>RainTomorrow</th><th>Month-Year</th></tr></thead><tbody><tr><td>2008-12-01T00:00:00.000+0000</td><td>Albury</td><td>13.4</td><td>22.9</td><td>0.6</td><td>NA</td><td>NA</td><td>W</td><td>44</td><td>W</td><td>WNW</td><td>20</td><td>24</td><td>71</td><td>22</td><td>1007.7</td><td>1007.1</td><td>8</td><td>NA</td><td>16.9</td><td>21.8</td><td>No</td><td>0</td><td>No</td><td>2008-12</td></tr><tr><td>2008-12-02T00:00:00.000+0000</td><td>Albury</td><td>7.4</td><td>25.1</td><td>0</td><td>NA</td><td>NA</td><td>WNW</td><td>44</td><td>NNW</td><td>WSW</td><td>4</td><td>22</td><td>44</td><td>25</td><td>1010.6</td><td>1007.8</td><td>NA</td><td>NA</td><td>17.2</td><td>24.3</td><td>No</td><td>0</td><td>No</td><td>2008-12</td></tr><tr><td>2008-12-03T00:00:00.000+0000</td><td>Albury</td><td>12.9</td><td>25.7</td><td>0</td><td>NA</td><td>NA</td><td>WSW</td><td>46</td><td>W</td><td>WSW</td><td>19</td><td>26</td><td>38</td><td>30</td><td>1007.6</td><td>1008.7</td><td>NA</td><td>2</td><td>21</td><td>23.2</td><td>No</td><td>0</td><td>No</td><td>2008-12</td></tr><tr><td>2008-12-04T00:00:00.000+0000</td><td>Albury</td><td>9.2</td><td>28</td><td>0</td><td>NA</td><td>NA</td><td>NE</td><td>24</td><td>SE</td><td>E</td><td>11</td><td>9</td><td>45</td><td>16</td><td>1017.6</td><td>1012.8</td><td>NA</td><td>NA</td><td>18.1</td><td>26.5</td><td>No</td><td>1</td><td>No</td><td>2008-12</td></tr><tr><td>2008-12-05T00:00:00.000+0000</td><td>Albury</td><td>17.5</td><td>32.3</td><td>1</td><td>NA</td><td>NA</td><td>W</td><td>41</td><td>ENE</td><td>NW</td><td>7</td><td>20</td><td>82</td><td>33</td><td>1010.8</td><td>1006</td><td>7</td><td>8</td><td>17.8</td><td>29.7</td><td>No</td><td>0.2</td><td>No</td><td>2008-12</td></tr><tr><td>2008-12-06T00:00:00.000+0000</td><td>Albury</td><td>14.6</td><td>29.7</td><td>0.2</td><td>NA</td><td>NA</td><td>WNW</td><td>56</td><td>W</td><td>W</td><td>19</td><td>24</td><td>55</td><td>23</td><td>1009.2</td><td>1005.4</td><td>NA</td><td>NA</td><td>20.6</td><td>28.9</td><td>No</td><td>0</td><td>No</td><td>2008-12</td></tr><tr><td>2008-12-07T00:00:00.000+0000</td><td>Albury</td><td>14.3</td><td>25</td><td>0</td><td>NA</td><td>NA</td><td>W</td><td>50</td><td>SW</td><td>W</td><td>20</td><td>24</td><td>49</td><td>19</td><td>1009.6</td><td>1008.2</td><td>1</td><td>NA</td><td>18.1</td><td>24.6</td><td>No</td><td>0</td><td>No</td><td>2008-12</td></tr><tr><td>2008-12-08T00:00:00.000+0000</td><td>Albury</td><td>7.7</td><td>26.7</td><td>0</td><td>NA</td><td>NA</td><td>W</td><td>35</td><td>SSE</td><td>W</td><td>6</td><td>17</td><td>48</td><td>19</td><td>1013.4</td><td>1010.1</td><td>NA</td><td>NA</td><td>16.3</td><td>25.5</td><td>No</td><td>0</td><td>No</td><td>2008-12</td></tr><tr><td>2008-12-09T00:00:00.000+0000</td><td>Albury</td><td>9.7</td><td>31.9</td><td>0</td><td>NA</td><td>NA</td><td>NNW</td><td>80</td><td>SE</td><td>NW</td><td>7</td><td>28</td><td>42</td><td>9</td><td>1008.9</td><td>1003.6</td><td>NA</td><td>NA</td><td>18.3</td><td>30.2</td><td>No</td><td>1.4</td><td>Yes</td><td>2008-12</td></tr><tr><td>2008-12-10T00:00:00.000+0000</td><td>Albury</td><td>13.1</td><td>30.1</td><td>1.4</td><td>NA</td><td>NA</td><td>W</td><td>28</td><td>S</td><td>SSE</td><td>15</td><td>11</td><td>58</td><td>27</td><td>1007</td><td>1005.7</td><td>NA</td><td>NA</td><td>20.1</td><td>28.2</td><td>Yes</td><td>0</td><td>No</td><td>2008-12</td></tr></tbody></table></div>"
      ]
     },
     "metadata": {},
     "output_type": "display_data"
    }
   ],
   "source": [
    "# take a sneak peak into the data \n",
    "display(weather_df.take(10))"
   ]
  },
  {
   "cell_type": "code",
   "execution_count": 6,
   "metadata": {},
   "outputs": [
    {
     "data": {
      "text/html": [
       "<style scoped>\n",
       "  .ansiout {\n",
       "    display: block;\n",
       "    unicode-bidi: embed;\n",
       "    white-space: pre-wrap;\n",
       "    word-wrap: break-word;\n",
       "    word-break: break-all;\n",
       "    font-family: \"Source Code Pro\", \"Menlo\", monospace;;\n",
       "    font-size: 13px;\n",
       "    color: #555;\n",
       "    margin-left: 4px;\n",
       "    line-height: 19px;\n",
       "  }\n",
       "</style>\n",
       "<div class=\"ansiout\"></div>"
      ]
     },
     "metadata": {},
     "output_type": "display_data"
    }
   ],
   "source": [
    "# convert the date column to datetime instead of string\n",
    "weather_df = weather_df.withColumn('Date', unix_timestamp(weather_df.Date, 'yyyy-MM-dd').cast(TimestampType()))"
   ]
  },
  {
   "cell_type": "code",
   "execution_count": 7,
   "metadata": {},
   "outputs": [
    {
     "data": {
      "text/html": [
       "<style scoped>\n",
       "  .ansiout {\n",
       "    display: block;\n",
       "    unicode-bidi: embed;\n",
       "    white-space: pre-wrap;\n",
       "    word-wrap: break-word;\n",
       "    word-break: break-all;\n",
       "    font-family: \"Source Code Pro\", \"Menlo\", monospace;;\n",
       "    font-size: 13px;\n",
       "    color: #555;\n",
       "    margin-left: 4px;\n",
       "    line-height: 19px;\n",
       "  }\n",
       "</style>\n",
       "<div class=\"ansiout\">Out[6]: pyspark.sql.types.TimestampType</div>"
      ]
     },
     "metadata": {},
     "output_type": "display_data"
    }
   ],
   "source": [
    "TimestampType"
   ]
  },
  {
   "cell_type": "code",
   "execution_count": 8,
   "metadata": {},
   "outputs": [
    {
     "data": {
      "text/html": [
       "<style scoped>\n",
       "  .ansiout {\n",
       "    display: block;\n",
       "    unicode-bidi: embed;\n",
       "    white-space: pre-wrap;\n",
       "    word-wrap: break-word;\n",
       "    word-break: break-all;\n",
       "    font-family: \"Source Code Pro\", \"Menlo\", monospace;;\n",
       "    font-size: 13px;\n",
       "    color: #555;\n",
       "    margin-left: 4px;\n",
       "    line-height: 19px;\n",
       "  }\n",
       "</style>\n",
       "<div class=\"ansiout\"></div>"
      ]
     },
     "metadata": {},
     "output_type": "display_data"
    }
   ],
   "source": [
    "# create a column with only Month and Year using the concat spark sql function\n",
    "weather_df = weather_df.withColumn('Month-Year',concat(year(weather_df.Date),lit('-'),month(weather_df.Date)))"
   ]
  },
  {
   "cell_type": "code",
   "execution_count": 9,
   "metadata": {},
   "outputs": [
    {
     "data": {
      "text/html": [
       "<style scoped>\n",
       "  .table-result-container {\n",
       "    max-height: 300px;\n",
       "    overflow: auto;\n",
       "  }\n",
       "  table, th, td {\n",
       "    border: 1px solid black;\n",
       "    border-collapse: collapse;\n",
       "  }\n",
       "  th, td {\n",
       "    padding: 5px;\n",
       "  }\n",
       "  th {\n",
       "    text-align: left;\n",
       "  }\n",
       "</style><div class='table-result-container'><table class='table-result'><thead style='background-color: white'><tr><th>Date</th><th>Location</th><th>MinTemp</th><th>MaxTemp</th><th>Rainfall</th><th>Evaporation</th><th>Sunshine</th><th>WindGustDir</th><th>WindGustSpeed</th><th>WindDir9am</th><th>WindDir3pm</th><th>WindSpeed9am</th><th>WindSpeed3pm</th><th>Humidity9am</th><th>Humidity3pm</th><th>Pressure9am</th><th>Pressure3pm</th><th>Cloud9am</th><th>Cloud3pm</th><th>Temp9am</th><th>Temp3pm</th><th>RainToday</th><th>RISK_MM</th><th>RainTomorrow</th><th>Month-Year</th></tr></thead><tbody><tr><td>2008-12-01T00:00:00.000+0000</td><td>Albury</td><td>13.4</td><td>22.9</td><td>0.6</td><td>NA</td><td>NA</td><td>W</td><td>44</td><td>W</td><td>WNW</td><td>20</td><td>24</td><td>71</td><td>22</td><td>1007.7</td><td>1007.1</td><td>8</td><td>NA</td><td>16.9</td><td>21.8</td><td>No</td><td>0</td><td>No</td><td>2008-12</td></tr><tr><td>2008-12-02T00:00:00.000+0000</td><td>Albury</td><td>7.4</td><td>25.1</td><td>0</td><td>NA</td><td>NA</td><td>WNW</td><td>44</td><td>NNW</td><td>WSW</td><td>4</td><td>22</td><td>44</td><td>25</td><td>1010.6</td><td>1007.8</td><td>NA</td><td>NA</td><td>17.2</td><td>24.3</td><td>No</td><td>0</td><td>No</td><td>2008-12</td></tr><tr><td>2008-12-03T00:00:00.000+0000</td><td>Albury</td><td>12.9</td><td>25.7</td><td>0</td><td>NA</td><td>NA</td><td>WSW</td><td>46</td><td>W</td><td>WSW</td><td>19</td><td>26</td><td>38</td><td>30</td><td>1007.6</td><td>1008.7</td><td>NA</td><td>2</td><td>21</td><td>23.2</td><td>No</td><td>0</td><td>No</td><td>2008-12</td></tr><tr><td>2008-12-04T00:00:00.000+0000</td><td>Albury</td><td>9.2</td><td>28</td><td>0</td><td>NA</td><td>NA</td><td>NE</td><td>24</td><td>SE</td><td>E</td><td>11</td><td>9</td><td>45</td><td>16</td><td>1017.6</td><td>1012.8</td><td>NA</td><td>NA</td><td>18.1</td><td>26.5</td><td>No</td><td>1</td><td>No</td><td>2008-12</td></tr><tr><td>2008-12-05T00:00:00.000+0000</td><td>Albury</td><td>17.5</td><td>32.3</td><td>1</td><td>NA</td><td>NA</td><td>W</td><td>41</td><td>ENE</td><td>NW</td><td>7</td><td>20</td><td>82</td><td>33</td><td>1010.8</td><td>1006</td><td>7</td><td>8</td><td>17.8</td><td>29.7</td><td>No</td><td>0.2</td><td>No</td><td>2008-12</td></tr><tr><td>2008-12-06T00:00:00.000+0000</td><td>Albury</td><td>14.6</td><td>29.7</td><td>0.2</td><td>NA</td><td>NA</td><td>WNW</td><td>56</td><td>W</td><td>W</td><td>19</td><td>24</td><td>55</td><td>23</td><td>1009.2</td><td>1005.4</td><td>NA</td><td>NA</td><td>20.6</td><td>28.9</td><td>No</td><td>0</td><td>No</td><td>2008-12</td></tr><tr><td>2008-12-07T00:00:00.000+0000</td><td>Albury</td><td>14.3</td><td>25</td><td>0</td><td>NA</td><td>NA</td><td>W</td><td>50</td><td>SW</td><td>W</td><td>20</td><td>24</td><td>49</td><td>19</td><td>1009.6</td><td>1008.2</td><td>1</td><td>NA</td><td>18.1</td><td>24.6</td><td>No</td><td>0</td><td>No</td><td>2008-12</td></tr><tr><td>2008-12-08T00:00:00.000+0000</td><td>Albury</td><td>7.7</td><td>26.7</td><td>0</td><td>NA</td><td>NA</td><td>W</td><td>35</td><td>SSE</td><td>W</td><td>6</td><td>17</td><td>48</td><td>19</td><td>1013.4</td><td>1010.1</td><td>NA</td><td>NA</td><td>16.3</td><td>25.5</td><td>No</td><td>0</td><td>No</td><td>2008-12</td></tr><tr><td>2008-12-09T00:00:00.000+0000</td><td>Albury</td><td>9.7</td><td>31.9</td><td>0</td><td>NA</td><td>NA</td><td>NNW</td><td>80</td><td>SE</td><td>NW</td><td>7</td><td>28</td><td>42</td><td>9</td><td>1008.9</td><td>1003.6</td><td>NA</td><td>NA</td><td>18.3</td><td>30.2</td><td>No</td><td>1.4</td><td>Yes</td><td>2008-12</td></tr><tr><td>2008-12-10T00:00:00.000+0000</td><td>Albury</td><td>13.1</td><td>30.1</td><td>1.4</td><td>NA</td><td>NA</td><td>W</td><td>28</td><td>S</td><td>SSE</td><td>15</td><td>11</td><td>58</td><td>27</td><td>1007</td><td>1005.7</td><td>NA</td><td>NA</td><td>20.1</td><td>28.2</td><td>Yes</td><td>0</td><td>No</td><td>2008-12</td></tr></tbody></table></div>"
      ]
     },
     "metadata": {},
     "output_type": "display_data"
    }
   ],
   "source": [
    "# take a look at our new column\n",
    "display(weather_df.take(10))"
   ]
  },
  {
   "cell_type": "code",
   "execution_count": 10,
   "metadata": {},
   "outputs": [
    {
     "data": {
      "text/html": [
       "<style scoped>\n",
       "  .ansiout {\n",
       "    display: block;\n",
       "    unicode-bidi: embed;\n",
       "    white-space: pre-wrap;\n",
       "    word-wrap: break-word;\n",
       "    word-break: break-all;\n",
       "    font-family: \"Source Code Pro\", \"Menlo\", monospace;;\n",
       "    font-size: 13px;\n",
       "    color: #555;\n",
       "    margin-left: 4px;\n",
       "    line-height: 19px;\n",
       "  }\n",
       "</style>\n",
       "<div class=\"ansiout\">Out[9]: 322</div>"
      ]
     },
     "metadata": {},
     "output_type": "display_data"
    }
   ],
   "source": [
    "# count number of missing MaxTemp\n",
    "weather_df.filter(weather_df.MaxTemp == 'NA').count()"
   ]
  },
  {
   "cell_type": "code",
   "execution_count": 11,
   "metadata": {},
   "outputs": [
    {
     "data": {
      "text/html": [
       "<style scoped>\n",
       "  .ansiout {\n",
       "    display: block;\n",
       "    unicode-bidi: embed;\n",
       "    white-space: pre-wrap;\n",
       "    word-wrap: break-word;\n",
       "    word-break: break-all;\n",
       "    font-family: \"Source Code Pro\", \"Menlo\", monospace;;\n",
       "    font-size: 13px;\n",
       "    color: #555;\n",
       "    margin-left: 4px;\n",
       "    line-height: 19px;\n",
       "  }\n",
       "</style>\n",
       "<div class=\"ansiout\">Out[10]: 637</div>"
      ]
     },
     "metadata": {},
     "output_type": "display_data"
    }
   ],
   "source": [
    "# count number of missing MinTemp\n",
    "weather_df.filter(weather_df.MinTemp == 'NA').count()"
   ]
  },
  {
   "cell_type": "code",
   "execution_count": 12,
   "metadata": {},
   "outputs": [
    {
     "data": {
      "text/html": [
       "<style scoped>\n",
       "  .ansiout {\n",
       "    display: block;\n",
       "    unicode-bidi: embed;\n",
       "    white-space: pre-wrap;\n",
       "    word-wrap: break-word;\n",
       "    word-break: break-all;\n",
       "    font-family: \"Source Code Pro\", \"Menlo\", monospace;;\n",
       "    font-size: 13px;\n",
       "    color: #555;\n",
       "    margin-left: 4px;\n",
       "    line-height: 19px;\n",
       "  }\n",
       "</style>\n",
       "<div class=\"ansiout\"></div>"
      ]
     },
     "metadata": {},
     "output_type": "display_data"
    }
   ],
   "source": [
    "# remove NA and then group by month and year and create a dataframe with different aggregation of temperatures\n",
    "# you will notice I am taking the minimum of the Date, which should be the first of the month. I am keeping this to make plotting easy, as most plotting library accepts datetime.\n",
    "temp_agg_df = weather_df.filter(weather_df.MinTemp != 'NA').filter(weather_df.MaxTemp != 'NA').groupBy('Month-Year').agg(min(weather_df.Date).alias('firstDate'), min(weather_df.MinTemp).alias('minTemp'), max(weather_df.MaxTemp).alias('maxTemp'))"
   ]
  },
  {
   "cell_type": "markdown",
   "metadata": {},
   "source": [
    "## Visualization\n",
    "You can use plotly, matplotlib, seaborn, and other libraries in python to visualize the results in the temp_agg_df. Since we are using databricks, we will simply use the display function to plot the line chart min and max temperature per month and year."
   ]
  },
  {
   "cell_type": "code",
   "execution_count": 14,
   "metadata": {},
   "outputs": [
    {
     "data": {
      "text/html": [
       "<style scoped>\n",
       "  .table-result-container {\n",
       "    max-height: 300px;\n",
       "    overflow: auto;\n",
       "  }\n",
       "  table, th, td {\n",
       "    border: 1px solid black;\n",
       "    border-collapse: collapse;\n",
       "  }\n",
       "  th, td {\n",
       "    padding: 5px;\n",
       "  }\n",
       "  th {\n",
       "    text-align: left;\n",
       "  }\n",
       "</style><div class='table-result-container'><table class='table-result'><thead style='background-color: white'><tr><th>Month-Year</th><th>firstDate</th><th>minTemp</th><th>maxTemp</th></tr></thead><tbody><tr><td>2016-7</td><td>2016-07-01T00:00:00.000+0000</td><td>-0.1</td><td>9.9</td></tr><tr><td>2014-1</td><td>2014-01-01T00:00:00.000+0000</td><td>10</td><td>47.3</td></tr><tr><td>2013-4</td><td>2013-04-01T00:00:00.000+0000</td><td>-0.3</td><td>9.6</td></tr><tr><td>2016-9</td><td>2016-09-01T00:00:00.000+0000</td><td>-0.3</td><td>9.9</td></tr><tr><td>2013-12</td><td>2013-12-01T00:00:00.000+0000</td><td>-0.4</td><td>45.1</td></tr><tr><td>2010-11</td><td>2010-11-01T00:00:00.000+0000</td><td>-0.1</td><td>9.4</td></tr><tr><td>2010-5</td><td>2010-05-01T00:00:00.000+0000</td><td>-0.3</td><td>9.7</td></tr><tr><td>2012-1</td><td>2012-01-01T00:00:00.000+0000</td><td>-1.3</td><td>43</td></tr><tr><td>2010-1</td><td>2010-01-01T00:00:00.000+0000</td><td>-0.6</td><td>7.6</td></tr><tr><td>2011-9</td><td>2011-09-01T00:00:00.000+0000</td><td>-0.1</td><td>9.9</td></tr><tr><td>2014-7</td><td>2014-07-01T00:00:00.000+0000</td><td>-0.1</td><td>9.9</td></tr><tr><td>2008-5</td><td>2008-05-01T00:00:00.000+0000</td><td>-0.1</td><td>23.6</td></tr><tr><td>2013-9</td><td>2013-09-01T00:00:00.000+0000</td><td>-0.1</td><td>9.8</td></tr><tr><td>2010-3</td><td>2010-03-01T00:00:00.000+0000</td><td>1.6</td><td>41.2</td></tr><tr><td>2017-5</td><td>2017-05-01T00:00:00.000+0000</td><td>-0.1</td><td>9.9</td></tr><tr><td>2010-2</td><td>2010-02-01T00:00:00.000+0000</td><td>10</td><td>42.7</td></tr><tr><td>2011-3</td><td>2011-03-01T00:00:00.000+0000</td><td>1.6</td><td>7.8</td></tr><tr><td>2015-7</td><td>2015-07-01T00:00:00.000+0000</td><td>-0.1</td><td>9.9</td></tr><tr><td>2015-12</td><td>2015-12-01T00:00:00.000+0000</td><td>1</td><td>44.8</td></tr><tr><td>2008-8</td><td>2008-08-01T00:00:00.000+0000</td><td>-0.1</td><td>9.9</td></tr><tr><td>2009-1</td><td>2009-01-01T00:00:00.000+0000</td><td>0.7</td><td>45.7</td></tr><tr><td>2009-6</td><td>2009-06-01T00:00:00.000+0000</td><td>-0.1</td><td>9.9</td></tr><tr><td>2010-8</td><td>2010-08-01T00:00:00.000+0000</td><td>-0.1</td><td>9.9</td></tr><tr><td>2016-12</td><td>2016-12-01T00:00:00.000+0000</td><td>1.1</td><td>8.8</td></tr><tr><td>2009-5</td><td>2009-05-01T00:00:00.000+0000</td><td>-0.1</td><td>9.9</td></tr><tr><td>2014-4</td><td>2014-04-01T00:00:00.000+0000</td><td>-0.2</td><td>9.8</td></tr><tr><td>2014-2</td><td>2014-02-01T00:00:00.000+0000</td><td>0.9</td><td>44.9</td></tr><tr><td>2016-3</td><td>2016-03-01T00:00:00.000+0000</td><td>0</td><td>42.1</td></tr><tr><td>2009-10</td><td>2009-10-01T00:00:00.000+0000</td><td>-0.1</td><td>6.3</td></tr><tr><td>2007-12</td><td>2007-12-01T00:00:00.000+0000</td><td>10.1</td><td>35</td></tr><tr><td>2011-6</td><td>2011-06-01T00:00:00.000+0000</td><td>-0.1</td><td>9.8</td></tr><tr><td>2016-10</td><td>2016-10-01T00:00:00.000+0000</td><td>-0.3</td><td>9.7</td></tr><tr><td>2012-4</td><td>2012-04-01T00:00:00.000+0000</td><td>-0.2</td><td>9.9</td></tr><tr><td>2012-5</td><td>2012-05-01T00:00:00.000+0000</td><td>-0.1</td><td>9.8</td></tr><tr><td>2016-1</td><td>2016-01-01T00:00:00.000+0000</td><td>-0.5</td><td>9.3</td></tr><tr><td>2012-9</td><td>2012-09-01T00:00:00.000+0000</td><td>-0.1</td><td>9.9</td></tr><tr><td>2014-6</td><td>2014-06-01T00:00:00.000+0000</td><td>-0.2</td><td>9.9</td></tr><tr><td>2017-2</td><td>2017-02-01T00:00:00.000+0000</td><td>-1.6</td><td>47.3</td></tr><tr><td>2009-3</td><td>2009-03-01T00:00:00.000+0000</td><td>0.8</td><td>40.6</td></tr><tr><td>2009-9</td><td>2009-09-01T00:00:00.000+0000</td><td>-0.1</td><td>9.9</td></tr><tr><td>2008-1</td><td>2008-01-01T00:00:00.000+0000</td><td>10</td><td>35.8</td></tr><tr><td>2015-9</td><td>2015-09-01T00:00:00.000+0000</td><td>-0.1</td><td>9.9</td></tr><tr><td>2017-6</td><td>2017-06-01T00:00:00.000+0000</td><td>-0.1</td><td>9.9</td></tr><tr><td>2013-11</td><td>2013-11-01T00:00:00.000+0000</td><td>-0.2</td><td>8.4</td></tr><tr><td>2015-4</td><td>2015-04-01T00:00:00.000+0000</td><td>-0.6</td><td>9.9</td></tr><tr><td>2015-8</td><td>2015-08-01T00:00:00.000+0000</td><td>-0.1</td><td>9.9</td></tr><tr><td>2015-10</td><td>2015-10-01T00:00:00.000+0000</td><td>-0.5</td><td>9.4</td></tr><tr><td>2012-7</td><td>2012-07-01T00:00:00.000+0000</td><td>-0.1</td><td>9.9</td></tr><tr><td>2016-5</td><td>2016-05-01T00:00:00.000+0000</td><td>-0.1</td><td>9.8</td></tr><tr><td>2013-5</td><td>2013-05-01T00:00:00.000+0000</td><td>-0.1</td><td>9.9</td></tr><tr><td>2011-11</td><td>2011-11-01T00:00:00.000+0000</td><td>0.8</td><td>9.9</td></tr><tr><td>2011-2</td><td>2011-02-01T00:00:00.000+0000</td><td>0.9</td><td>42.9</td></tr><tr><td>2012-11</td><td>2012-11-01T00:00:00.000+0000</td><td>-0.1</td><td>9.8</td></tr><tr><td>2015-11</td><td>2015-11-01T00:00:00.000+0000</td><td>-1.1</td><td>7.7</td></tr><tr><td>2008-7</td><td>2008-07-01T00:00:00.000+0000</td><td>-0.1</td><td>9.7</td></tr><tr><td>2015-1</td><td>2015-01-01T00:00:00.000+0000</td><td>0.8</td><td>45.4</td></tr><tr><td>2008-12</td><td>2008-12-01T00:00:00.000+0000</td><td>-1</td><td>8</td></tr><tr><td>2012-6</td><td>2012-06-01T00:00:00.000+0000</td><td>-0.1</td><td>9.9</td></tr><tr><td>2009-11</td><td>2009-11-01T00:00:00.000+0000</td><td>-0.5</td><td>9.7</td></tr><tr><td>2015-3</td><td>2015-03-01T00:00:00.000+0000</td><td>-0.8</td><td>9.6</td></tr><tr><td>2008-3</td><td>2008-03-01T00:00:00.000+0000</td><td>10.1</td><td>35.2</td></tr><tr><td>2013-8</td><td>2013-08-01T00:00:00.000+0000</td><td>-0.1</td><td>9.8</td></tr><tr><td>2010-9</td><td>2010-09-01T00:00:00.000+0000</td><td>-0.1</td><td>9.9</td></tr><tr><td>2012-3</td><td>2012-03-01T00:00:00.000+0000</td><td>-0.1</td><td>8.8</td></tr><tr><td>2016-11</td><td>2016-11-01T00:00:00.000+0000</td><td>-0.1</td><td>9.7</td></tr><tr><td>2009-2</td><td>2009-02-01T00:00:00.000+0000</td><td>1</td><td>8</td></tr><tr><td>2015-5</td><td>2015-05-01T00:00:00.000+0000</td><td>-0.2</td><td>9.8</td></tr><tr><td>2009-4</td><td>2009-04-01T00:00:00.000+0000</td><td>-0.1</td><td>9.8</td></tr><tr><td>2011-10</td><td>2011-10-01T00:00:00.000+0000</td><td>-0.1</td><td>9.8</td></tr><tr><td>2011-5</td><td>2011-05-01T00:00:00.000+0000</td><td>-0.1</td><td>9.9</td></tr><tr><td>2017-3</td><td>2017-03-01T00:00:00.000+0000</td><td>-1.1</td><td>43</td></tr><tr><td>2008-11</td><td>2008-11-01T00:00:00.000+0000</td><td>10.2</td><td>36.6</td></tr><tr><td>2014-11</td><td>2014-11-01T00:00:00.000+0000</td><td>-0.4</td><td>9.3</td></tr><tr><td>2008-6</td><td>2008-06-01T00:00:00.000+0000</td><td>-0.2</td><td>22.1</td></tr><tr><td>2015-2</td><td>2015-02-01T00:00:00.000+0000</td><td>10</td><td>44.8</td></tr><tr><td>2009-12</td><td>2009-12-01T00:00:00.000+0000</td><td>-0.8</td><td>43.4</td></tr><tr><td>2009-8</td><td>2009-08-01T00:00:00.000+0000</td><td>-0.1</td><td>9.9</td></tr><tr><td>2014-9</td><td>2014-09-01T00:00:00.000+0000</td><td>-0.1</td><td>9.4</td></tr><tr><td>2009-7</td><td>2009-07-01T00:00:00.000+0000</td><td>-0.1</td><td>9.9</td></tr><tr><td>2014-10</td><td>2014-10-01T00:00:00.000+0000</td><td>-0.2</td><td>9.4</td></tr><tr><td>2016-8</td><td>2016-08-01T00:00:00.000+0000</td><td>-0.2</td><td>9.9</td></tr><tr><td>2017-4</td><td>2017-04-01T00:00:00.000+0000</td><td>-0.2</td><td>9.9</td></tr><tr><td>2013-6</td><td>2013-06-01T00:00:00.000+0000</td><td>-0.1</td><td>9.8</td></tr><tr><td>2017-1</td><td>2017-01-01T00:00:00.000+0000</td><td>10</td><td>45.7</td></tr><tr><td>2008-2</td><td>2008-02-01T00:00:00.000+0000</td><td>10.4</td><td>29.6</td></tr><tr><td>2011-7</td><td>2011-07-01T00:00:00.000+0000</td><td>-0.1</td><td>9.9</td></tr><tr><td>2014-12</td><td>2014-12-01T00:00:00.000+0000</td><td>10</td><td>44.1</td></tr><tr><td>2010-7</td><td>2010-07-01T00:00:00.000+0000</td><td>-0.1</td><td>9.9</td></tr><tr><td>2013-3</td><td>2013-03-01T00:00:00.000+0000</td><td>0.6</td><td>9.6</td></tr><tr><td>2012-2</td><td>2012-02-01T00:00:00.000+0000</td><td>10</td><td>8.9</td></tr><tr><td>2013-10</td><td>2013-10-01T00:00:00.000+0000</td><td>-0.1</td><td>9.9</td></tr><tr><td>2010-12</td><td>2010-12-01T00:00:00.000+0000</td><td>-0.4</td><td>9.4</td></tr><tr><td>2012-10</td><td>2012-10-01T00:00:00.000+0000</td><td>-0.1</td><td>9.8</td></tr><tr><td>2015-6</td><td>2015-06-01T00:00:00.000+0000</td><td>-0.1</td><td>9.9</td></tr><tr><td>2014-3</td><td>2014-03-01T00:00:00.000+0000</td><td>1.2</td><td>9.7</td></tr><tr><td>2008-9</td><td>2008-09-01T00:00:00.000+0000</td><td>-0.5</td><td>37</td></tr><tr><td>2016-6</td><td>2016-06-01T00:00:00.000+0000</td><td>-0.1</td><td>9.9</td></tr><tr><td>2007-11</td><td>2007-11-01T00:00:00.000+0000</td><td>10.1</td><td>33.4</td></tr><tr><td>2011-12</td><td>2011-12-01T00:00:00.000+0000</td><td>-0.8</td><td>9.3</td></tr><tr><td>2013-7</td><td>2013-07-01T00:00:00.000+0000</td><td>-0.1</td><td>9.9</td></tr><tr><td>2016-4</td><td>2016-04-01T00:00:00.000+0000</td><td>1.2</td><td>38.6</td></tr><tr><td>2010-6</td><td>2010-06-01T00:00:00.000+0000</td><td>-0.1</td><td>9.9</td></tr><tr><td>2016-2</td><td>2016-02-01T00:00:00.000+0000</td><td>10</td><td>45.1</td></tr><tr><td>2008-4</td><td>2008-04-01T00:00:00.000+0000</td><td>-1.8</td><td>28.7</td></tr><tr><td>2010-10</td><td>2010-10-01T00:00:00.000+0000</td><td>-0.1</td><td>9.8</td></tr><tr><td>2012-8</td><td>2012-08-01T00:00:00.000+0000</td><td>-0.1</td><td>9.9</td></tr><tr><td>2014-5</td><td>2014-05-01T00:00:00.000+0000</td><td>-0.1</td><td>9.9</td></tr><tr><td>2011-1</td><td>2011-01-01T00:00:00.000+0000</td><td>10</td><td>48.1</td></tr><tr><td>2011-8</td><td>2011-08-01T00:00:00.000+0000</td><td>-0.1</td><td>9.9</td></tr><tr><td>2014-8</td><td>2014-08-01T00:00:00.000+0000</td><td>-0.1</td><td>9.9</td></tr><tr><td>2013-1</td><td>2013-01-01T00:00:00.000+0000</td><td>0.7</td><td>46.5</td></tr><tr><td>2008-10</td><td>2008-10-01T00:00:00.000+0000</td><td>0.3</td><td>37.5</td></tr><tr><td>2010-4</td><td>2010-04-01T00:00:00.000+0000</td><td>-2.6</td><td>8.1</td></tr></tbody></table></div>"
      ]
     },
     "metadata": {},
     "output_type": "display_data"
    }
   ],
   "source": [
    "display(temp_agg_df)"
   ]
  },
  {
   "cell_type": "markdown",
   "metadata": {},
   "source": [
    "Do you see any interesting observations in the chart above? \n",
    "\n",
    "Now it is your turn to explore this dataset and find more interesting insights from it. Please use this notebook as a starter and keep digging forward."
   ]
  }
 ],
 "metadata": {
  "kernelspec": {
   "display_name": "Python 3",
   "language": "python",
   "name": "python3"
  },
  "language_info": {
   "codemirror_mode": {
    "name": "ipython",
    "version": 3
   },
   "file_extension": ".py",
   "mimetype": "text/x-python",
   "name": "python",
   "nbconvert_exporter": "python",
   "pygments_lexer": "ipython3",
   "version": "3.6.9"
  },
  "name": "Weather in Australia",
  "notebookId": 2803331026675435
 },
 "nbformat": 4,
 "nbformat_minor": 1
}
