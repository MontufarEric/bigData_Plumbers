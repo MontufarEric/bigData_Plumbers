{
 "cells": [
  {
   "cell_type": "code",
   "execution_count": null,
   "metadata": {},
   "outputs": [],
   "source": []
  },
  {
   "cell_type": "code",
   "execution_count": 1,
   "metadata": {},
   "outputs": [],
   "source": [
    "from pyspark import SparkContext, SparkConf"
   ]
  },
  {
   "cell_type": "code",
   "execution_count": 2,
   "metadata": {},
   "outputs": [],
   "source": [
    "if not 'sc' in globals():\n",
    "    conf = SparkConf().setMaster('local[*]')\n",
    "    sc = SparkContext(conf=conf)"
   ]
  },
  {
   "cell_type": "code",
   "execution_count": 3,
   "metadata": {},
   "outputs": [],
   "source": [
    "# load the dataset into an RDD to get started\n",
    "input_rdd = sc.textFile(\"/home/fieldengineer/Documents/courses/architect_big_data_solutions_with_spark-master/Datasets//movielens/movies.csv\")"
   ]
  },
  {
   "cell_type": "code",
   "execution_count": 4,
   "metadata": {},
   "outputs": [],
   "source": [
    "# we will extract the year with this function. if there is problem with our data we will just return a None value\n",
    "import re\n",
    "def get_year(name):\n",
    "    year = None\n",
    "    try:\n",
    "      pattern = re.compile(r\"\\((\\d+)\\)\")\n",
    "      year = int(pattern.findall(name)[0])\n",
    "    except ValueError:\n",
    "      pass\n",
    "    except IndexError:\n",
    "      pass\n",
    "    \n",
    "    return year"
   ]
  },
  {
   "cell_type": "code",
   "execution_count": 5,
   "metadata": {},
   "outputs": [],
   "source": [
    "movie_info_rdd = input_rdd.filter(lambda line: 'movieId' not in line)\n",
    "movie_info_list_rdd = movie_info_rdd.map(lambda x: x.split(','))"
   ]
  },
  {
   "cell_type": "code",
   "execution_count": 6,
   "metadata": {},
   "outputs": [],
   "source": [
    "# we can use the map operation to apply our custom function to every name in our rdd\n",
    "movie_year_rdd = movie_info_list_rdd.map(lambda x: get_year(x[1]))"
   ]
  },
  {
   "cell_type": "markdown",
   "metadata": {},
   "source": [
    "### Actions\n",
    "Actions are RDD methods that return a value to a driver program. This section discusses the commonly used\n",
    "RDD actions. Spark will only \"go to work\" when you apply an action on top of your RDD."
   ]
  },
  {
   "cell_type": "markdown",
   "metadata": {},
   "source": [
    "##### collect\n",
    "The collect method returns the elements in the source RDD as an array. This method should be used with\n",
    "caution since it moves data from all the worker nodes to the driver program. It can crash the driver program\n",
    "if called on a very large RDD."
   ]
  },
  {
   "cell_type": "code",
   "execution_count": 7,
   "metadata": {},
   "outputs": [
    {
     "data": {
      "text/plain": [
       "[None,\n",
       " 1994,\n",
       " 1996,\n",
       " 1976,\n",
       " 1992,\n",
       " 1982,\n",
       " 1990,\n",
       " 1940,\n",
       " 1960,\n",
       " 1968,\n",
       " 1988,\n",
       " 1948,\n",
       " 1964,\n",
       " 1950,\n",
       " 6,\n",
       " 1952,\n",
       " 1958,\n",
       " 1954,\n",
       " 1934,\n",
       " 1944,\n",
       " 1942,\n",
       " 1946,\n",
       " 1936,\n",
       " 1956,\n",
       " 1938,\n",
       " 1974,\n",
       " 1986,\n",
       " 1980,\n",
       " 1978,\n",
       " 1962,\n",
       " 1984,\n",
       " 1970,\n",
       " 1998,\n",
       " 1930,\n",
       " 1932,\n",
       " 1928,\n",
       " 1966,\n",
       " 1972,\n",
       " 2000,\n",
       " 1926,\n",
       " 2002,\n",
       " 2004,\n",
       " 1916,\n",
       " 1922,\n",
       " 1924,\n",
       " 2006,\n",
       " 2008,\n",
       " 500,\n",
       " 2010,\n",
       " 2012,\n",
       " 2014,\n",
       " 2016,\n",
       " 1995,\n",
       " 1967,\n",
       " 1993,\n",
       " 1977,\n",
       " 1965,\n",
       " 1991,\n",
       " 1989,\n",
       " 1937,\n",
       " 1981,\n",
       " 1973,\n",
       " 1955,\n",
       " 1997,\n",
       " 1943,\n",
       " 1957,\n",
       " 1961,\n",
       " 1959,\n",
       " 1963,\n",
       " 1953,\n",
       " 1939,\n",
       " 1941,\n",
       " 1945,\n",
       " 1935,\n",
       " 1947,\n",
       " 1975,\n",
       " 1949,\n",
       " 1971,\n",
       " 1951,\n",
       " 1979,\n",
       " 1987,\n",
       " 1985,\n",
       " 1983,\n",
       " 1933,\n",
       " 1931,\n",
       " 1969,\n",
       " 1927,\n",
       " 1929,\n",
       " 1999,\n",
       " 1925,\n",
       " 1923,\n",
       " 2001,\n",
       " 2003,\n",
       " 2005,\n",
       " 2007,\n",
       " 2009,\n",
       " 2011,\n",
       " 2013,\n",
       " 2015]"
      ]
     },
     "execution_count": 7,
     "metadata": {},
     "output_type": "execute_result"
    }
   ],
   "source": [
    "# lets print out all the different years we have movies from in our data\n",
    "movie_year_rdd.distinct().collect()"
   ]
  },
  {
   "cell_type": "markdown",
   "metadata": {},
   "source": [
    "##### count\n",
    "The count method returns a count of the elements in the source RDD"
   ]
  },
  {
   "cell_type": "code",
   "execution_count": 8,
   "metadata": {},
   "outputs": [
    {
     "data": {
      "text/plain": [
       "9125"
      ]
     },
     "execution_count": 8,
     "metadata": {},
     "output_type": "execute_result"
    }
   ],
   "source": [
    "# count the number of movies we have in our data\n",
    "movie_year_rdd.count()"
   ]
  },
  {
   "cell_type": "markdown",
   "metadata": {},
   "source": [
    "##### countByValue\n",
    "The countByValue method returns a count of each unique element in the source RDD. It returns an instance\n",
    "of the Map class containing each unique element and its count as a key-value pair."
   ]
  },
  {
   "cell_type": "code",
   "execution_count": 9,
   "metadata": {},
   "outputs": [
    {
     "data": {
      "text/plain": [
       "defaultdict(int,\n",
       "            {1995: 206,\n",
       "             None: 2129,\n",
       "             1994: 183,\n",
       "             1996: 220,\n",
       "             1976: 31,\n",
       "             1992: 119,\n",
       "             1967: 39,\n",
       "             1993: 158,\n",
       "             1977: 43,\n",
       "             1965: 26,\n",
       "             1982: 74,\n",
       "             1990: 114,\n",
       "             1991: 118,\n",
       "             1989: 118,\n",
       "             1937: 14,\n",
       "             1940: 15,\n",
       "             1981: 71,\n",
       "             1973: 36,\n",
       "             1960: 30,\n",
       "             1955: 33,\n",
       "             1968: 30,\n",
       "             1988: 129,\n",
       "             1948: 20,\n",
       "             1964: 28,\n",
       "             1950: 24,\n",
       "             1997: 213,\n",
       "             6: 1,\n",
       "             1943: 17,\n",
       "             1952: 17,\n",
       "             1957: 23,\n",
       "             1961: 25,\n",
       "             1958: 18,\n",
       "             1954: 23,\n",
       "             1934: 9,\n",
       "             1944: 14,\n",
       "             1959: 27,\n",
       "             1963: 29,\n",
       "             1942: 18,\n",
       "             1953: 24,\n",
       "             1939: 19,\n",
       "             1941: 16,\n",
       "             1946: 16,\n",
       "             1945: 15,\n",
       "             1935: 6,\n",
       "             1936: 16,\n",
       "             1956: 17,\n",
       "             1938: 11,\n",
       "             1947: 22,\n",
       "             1975: 34,\n",
       "             1974: 32,\n",
       "             1949: 21,\n",
       "             1971: 40,\n",
       "             1951: 12,\n",
       "             1979: 45,\n",
       "             1987: 122,\n",
       "             1986: 109,\n",
       "             1980: 66,\n",
       "             1978: 47,\n",
       "             1985: 102,\n",
       "             1962: 28,\n",
       "             1983: 69,\n",
       "             1984: 70,\n",
       "             1933: 9,\n",
       "             1931: 12,\n",
       "             1970: 29,\n",
       "             1969: 29,\n",
       "             1998: 209,\n",
       "             1927: 6,\n",
       "             1930: 3,\n",
       "             1932: 11,\n",
       "             1928: 1,\n",
       "             1966: 29,\n",
       "             1972: 30,\n",
       "             1929: 1,\n",
       "             1999: 198,\n",
       "             1925: 4,\n",
       "             1923: 3,\n",
       "             2000: 214,\n",
       "             2001: 214,\n",
       "             1926: 2,\n",
       "             2002: 221,\n",
       "             2003: 180,\n",
       "             2004: 198,\n",
       "             1916: 1,\n",
       "             1922: 3,\n",
       "             1924: 2,\n",
       "             2005: 184,\n",
       "             2006: 198,\n",
       "             2007: 209,\n",
       "             2008: 196,\n",
       "             2009: 194,\n",
       "             500: 1,\n",
       "             2010: 181,\n",
       "             2011: 177,\n",
       "             2012: 170,\n",
       "             2013: 174,\n",
       "             2014: 192,\n",
       "             2015: 176,\n",
       "             2016: 63})"
      ]
     },
     "execution_count": 9,
     "metadata": {},
     "output_type": "execute_result"
    }
   ],
   "source": [
    "# count the number of movies we have from every year\n",
    "movie_year_rdd.countByValue()"
   ]
  },
  {
   "cell_type": "markdown",
   "metadata": {},
   "source": [
    "##### first\n",
    "The first method returns the first element in the source RDD"
   ]
  },
  {
   "cell_type": "code",
   "execution_count": 12,
   "metadata": {},
   "outputs": [
    {
     "data": {
      "text/plain": [
       "1995"
      ]
     },
     "execution_count": 12,
     "metadata": {},
     "output_type": "execute_result"
    }
   ],
   "source": [
    "movie_year_rdd.first()"
   ]
  },
  {
   "cell_type": "markdown",
   "metadata": {},
   "source": [
    "##### max\n",
    "The max method returns the largest element in an RDD"
   ]
  },
  {
   "cell_type": "code",
   "execution_count": 16,
   "metadata": {},
   "outputs": [
    {
     "data": {
      "text/plain": [
       "2016"
      ]
     },
     "execution_count": 16,
     "metadata": {},
     "output_type": "execute_result"
    }
   ],
   "source": [
    "movie_year_rdd.filter(lambda x: x is not None).max()"
   ]
  },
  {
   "cell_type": "markdown",
   "metadata": {},
   "source": [
    "##### min\n",
    "The min method returns the smallest element in an RDD."
   ]
  },
  {
   "cell_type": "code",
   "execution_count": 14,
   "metadata": {},
   "outputs": [
    {
     "data": {
      "text/plain": [
       "6"
      ]
     },
     "execution_count": 14,
     "metadata": {},
     "output_type": "execute_result"
    }
   ],
   "source": [
    "movie_year_rdd.filter(lambda x: x is not None).min()"
   ]
  },
  {
   "cell_type": "markdown",
   "metadata": {},
   "source": [
    "##### take\n",
    "The take method takes an integer N as input and returns an array containing the first N element in the\n",
    "source RDD."
   ]
  },
  {
   "cell_type": "code",
   "execution_count": 17,
   "metadata": {},
   "outputs": [
    {
     "data": {
      "text/plain": [
       "[1995, 1995, 1995, 1995, 1995, 1995, 1995, 1995, 1995, 1995]"
      ]
     },
     "execution_count": 17,
     "metadata": {},
     "output_type": "execute_result"
    }
   ],
   "source": [
    "movie_year_rdd.take(10)"
   ]
  },
  {
   "cell_type": "markdown",
   "metadata": {},
   "source": [
    "##### takeOrdered\n",
    "The takeOrdered method takes an integer N as input and returns an array containing the N smallest\n",
    "elements in the source RDD"
   ]
  },
  {
   "cell_type": "code",
   "execution_count": 18,
   "metadata": {},
   "outputs": [
    {
     "data": {
      "text/plain": [
       "[6, 500, 1916, 1922, 1922, 1922, 1923, 1923, 1923, 1924]"
      ]
     },
     "execution_count": 18,
     "metadata": {},
     "output_type": "execute_result"
    }
   ],
   "source": [
    "movie_year_rdd.filter(lambda x: x is not None).takeOrdered(10)"
   ]
  },
  {
   "cell_type": "code",
   "execution_count": 19,
   "metadata": {},
   "outputs": [
    {
     "data": {
      "text/plain": [
       "[2016, 2015, 2014, 2013, 2012]"
      ]
     },
     "execution_count": 19,
     "metadata": {},
     "output_type": "execute_result"
    }
   ],
   "source": [
    "movie_year_rdd.filter(lambda x: x is not None).distinct().takeOrdered(5, key = lambda x: -x)"
   ]
  },
  {
   "cell_type": "markdown",
   "metadata": {},
   "source": [
    "##### top\n",
    "The top method takes an integer N as input and returns an array containing the N largest elements in the\n",
    "source RDD."
   ]
  },
  {
   "cell_type": "code",
   "execution_count": 20,
   "metadata": {
    "scrolled": true
   },
   "outputs": [
    {
     "data": {
      "text/plain": [
       "[2016, 2016, 2016]"
      ]
     },
     "execution_count": 20,
     "metadata": {},
     "output_type": "execute_result"
    }
   ],
   "source": [
    "movie_year_rdd.filter(lambda x: x is not None).top(3)"
   ]
  },
  {
   "cell_type": "code",
   "execution_count": 23,
   "metadata": {},
   "outputs": [
    {
     "data": {
      "text/plain": [
       "[2016, 2015, 2014, 2013, 2012]"
      ]
     },
     "execution_count": 23,
     "metadata": {},
     "output_type": "execute_result"
    }
   ],
   "source": [
    "movie_year_rdd.filter(lambda x: x is not None).distinct().top(5)"
   ]
  },
  {
   "cell_type": "markdown",
   "metadata": {},
   "source": [
    "### Actions on RDD of Numeric Types\n",
    "\n",
    "RDDs containing data elements of type Integer, Long, Float, or Double support a few additional actions that are useful for statistical analysis. The commonly used actions from this group are briefly described next"
   ]
  },
  {
   "cell_type": "markdown",
   "metadata": {},
   "source": [
    "##### mean\n",
    "The mean method returns the average of the elements in the source RDD."
   ]
  },
  {
   "cell_type": "code",
   "execution_count": 24,
   "metadata": {},
   "outputs": [
    {
     "data": {
      "text/plain": [
       "5.5"
      ]
     },
     "execution_count": 24,
     "metadata": {},
     "output_type": "execute_result"
    }
   ],
   "source": [
    "sc.parallelize([1,2,3,4,5,6,7,8,9,10]).mean()"
   ]
  },
  {
   "cell_type": "markdown",
   "metadata": {},
   "source": [
    "##### stdev\n",
    "The stdev method returns the standard deviation of the elements in the source RDD."
   ]
  },
  {
   "cell_type": "code",
   "execution_count": 25,
   "metadata": {},
   "outputs": [
    {
     "data": {
      "text/plain": [
       "2.8722813232690143"
      ]
     },
     "execution_count": 25,
     "metadata": {},
     "output_type": "execute_result"
    }
   ],
   "source": [
    "sc.parallelize([1,2,3,4,5,6,7,8,9,10]).stdev()"
   ]
  },
  {
   "cell_type": "markdown",
   "metadata": {},
   "source": [
    "##### sum\n",
    "The sum method returns the sum of the elements in the source RDD"
   ]
  },
  {
   "cell_type": "code",
   "execution_count": 26,
   "metadata": {},
   "outputs": [
    {
     "data": {
      "text/plain": [
       "55"
      ]
     },
     "execution_count": 26,
     "metadata": {},
     "output_type": "execute_result"
    }
   ],
   "source": [
    "sc.parallelize([1,2,3,4,5,6,7,8,9,10]).sum()"
   ]
  },
  {
   "cell_type": "markdown",
   "metadata": {},
   "source": [
    "#### variance\n",
    "The variance method returns the variance of the elements in the source RDD"
   ]
  },
  {
   "cell_type": "code",
   "execution_count": 29,
   "metadata": {},
   "outputs": [
    {
     "data": {
      "text/plain": [
       "8.25"
      ]
     },
     "execution_count": 29,
     "metadata": {},
     "output_type": "execute_result"
    }
   ],
   "source": [
    "sc.parallelize([1,2,3,4,5,6,7,8,9,10]).variance()"
   ]
  },
  {
   "cell_type": "markdown",
   "metadata": {},
   "source": [
    "### Saving an RDD"
   ]
  },
  {
   "cell_type": "markdown",
   "metadata": {},
   "source": [
    "##### saveAsTextFile\n",
    "The saveAsTextFile method saves the elements of the source RDD in the specified directory on any\n",
    "Hadoop-supported file system. Each RDD element is converted to its string representation and stored as a\n",
    "line of text"
   ]
  },
  {
   "cell_type": "markdown",
   "metadata": {},
   "source": [
    "##### saveAsObjectFile\n",
    "The saveAsObjectFile method saves the elements of the source RDD as serialized Java objects in the specified directory."
   ]
  },
  {
   "cell_type": "markdown",
   "metadata": {},
   "source": [
    "##### saveAsSequenceFile\n",
    "The saveAsSequenceFile method saves an RDD of key-value pairs in SequenceFile format. An RDD of keyvalue pairs can also be saved in text format using the saveAsTextFile."
   ]
  }
 ],
 "metadata": {
  "kernelspec": {
   "display_name": "Python 3",
   "language": "python",
   "name": "python3"
  },
  "language_info": {
   "codemirror_mode": {
    "name": "ipython",
    "version": 3
   },
   "file_extension": ".py",
   "mimetype": "text/x-python",
   "name": "python",
   "nbconvert_exporter": "python",
   "pygments_lexer": "ipython3",
   "version": "3.6.9"
  },
  "name": "Spark Lab 3 Public",
  "notebookId": 2816521733007236
 },
 "nbformat": 4,
 "nbformat_minor": 1
}
