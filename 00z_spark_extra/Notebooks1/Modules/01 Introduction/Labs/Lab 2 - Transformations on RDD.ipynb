{
 "cells": [
  {
   "cell_type": "code",
   "execution_count": null,
   "metadata": {},
   "outputs": [],
   "source": []
  },
  {
   "cell_type": "code",
   "execution_count": 2,
   "metadata": {},
   "outputs": [],
   "source": [
    "from pyspark import SparkContext, SparkConf"
   ]
  },
  {
   "cell_type": "code",
   "execution_count": 3,
   "metadata": {},
   "outputs": [],
   "source": [
    "if not 'sc' in globals():\n",
    "    conf = SparkConf().setMaster('local[*]')\n",
    "    sc = SparkContext(conf=conf)"
   ]
  },
  {
   "cell_type": "code",
   "execution_count": 4,
   "metadata": {
    "scrolled": true
   },
   "outputs": [],
   "source": [
    "# load the dataset into an RDD to get started\n",
    "input_rdd = sc.textFile(\"/home/fieldengineer/Documents/courses/architect_big_data_solutions_with_spark-master/Datasets//movielens/movies.csv\")"
   ]
  },
  {
   "cell_type": "markdown",
   "metadata": {},
   "source": [
    "### Transformations\n",
    "Transformations are operations that will not be completed at the time you write and execute the code in a cell - they will only get executed once you have called an action. An example of a transformation might be to convert an integer into a float or to filter a set of values. In this section we will discuss the basic transformations that can be applied on top of RDD.\n",
    "##### map\n",
    "The map method is a higher-order method that takes a function as input and applies it to each element in\n",
    "the source RDD to create a new RDD. The input function to map must take a single input parameter and\n",
    "return a value."
   ]
  },
  {
   "cell_type": "code",
   "execution_count": 5,
   "metadata": {},
   "outputs": [
    {
     "data": {
      "text/plain": [
       "'movieId,title,genres'"
      ]
     },
     "execution_count": 5,
     "metadata": {},
     "output_type": "execute_result"
    }
   ],
   "source": [
    "# just to show you the first line of the RDD\n",
    "input_rdd.first()"
   ]
  },
  {
   "cell_type": "code",
   "execution_count": 6,
   "metadata": {},
   "outputs": [],
   "source": [
    "# notice how the whole line is one single string\n",
    "# using the map function, you can transfer the previous RDD to have a list of values instead\n",
    "input_list = input_rdd.map(lambda line: line.split(','))"
   ]
  },
  {
   "cell_type": "code",
   "execution_count": 7,
   "metadata": {},
   "outputs": [
    {
     "data": {
      "text/plain": [
       "['movieId', 'title', 'genres']"
      ]
     },
     "execution_count": 7,
     "metadata": {},
     "output_type": "execute_result"
    }
   ],
   "source": [
    "# They are a list object now, instead of pure string\n",
    "# First is an action. ONLY AT THIS POINT SPARK WILL START PROCESSING\n",
    "# map is a transformation, which are lazily evaluated. When we executed the map function spark didn't do anything until an action was called upon.\n",
    "input_list.first()"
   ]
  },
  {
   "cell_type": "markdown",
   "metadata": {},
   "source": [
    "##### filter\n",
    "The filter method is a higher-order method that takes a Boolean function as input and applies it to each\n",
    "element in the source RDD to create a new RDD. A Boolean function takes an input and returns true or\n",
    "false. The filter method returns a new RDD formed by selecting only those elements for which the input\n",
    "Boolean function returned true. Thus, the new RDD contains a subset of the elements in the original RDD."
   ]
  },
  {
   "cell_type": "code",
   "execution_count": 9,
   "metadata": {},
   "outputs": [
    {
     "data": {
      "text/plain": [
       "['movieId,title,genres',\n",
       " '1,Toy Story (1995),Adventure|Animation|Children|Comedy|Fantasy',\n",
       " '2,Jumanji (1995),Adventure|Children|Fantasy',\n",
       " '3,Grumpier Old Men (1995),Comedy|Romance']"
      ]
     },
     "execution_count": 9,
     "metadata": {},
     "output_type": "execute_result"
    }
   ],
   "source": [
    "# the original input RDD has header\n",
    "input_rdd.take(4)"
   ]
  },
  {
   "cell_type": "code",
   "execution_count": 10,
   "metadata": {},
   "outputs": [],
   "source": [
    "# for processing the data I can get rid of the header with a filter operation\n",
    "movie_info_rdd = input_rdd.filter(lambda line: 'movieId' not in line)"
   ]
  },
  {
   "cell_type": "code",
   "execution_count": 11,
   "metadata": {},
   "outputs": [
    {
     "data": {
      "text/plain": [
       "'1,Toy Story (1995),Adventure|Animation|Children|Comedy|Fantasy'"
      ]
     },
     "execution_count": 11,
     "metadata": {},
     "output_type": "execute_result"
    }
   ],
   "source": [
    "# we got rid of the header\n",
    "# again, only at this point spark processes the data\n",
    "movie_info_rdd.first()"
   ]
  },
  {
   "cell_type": "code",
   "execution_count": 12,
   "metadata": {},
   "outputs": [],
   "source": [
    "# lets keep a list rdd for further examples\n",
    "movie_info_list_rdd = movie_info_rdd.map(lambda x: x.split(','))"
   ]
  },
  {
   "cell_type": "code",
   "execution_count": 14,
   "metadata": {},
   "outputs": [
    {
     "data": {
      "text/plain": [
       "[['1', 'Toy Story (1995)', 'Adventure|Animation|Children|Comedy|Fantasy'],\n",
       " ['2', 'Jumanji (1995)', 'Adventure|Children|Fantasy']]"
      ]
     },
     "execution_count": 14,
     "metadata": {},
     "output_type": "execute_result"
    }
   ],
   "source": [
    "movie_info_list_rdd.take(2)"
   ]
  },
  {
   "cell_type": "markdown",
   "metadata": {},
   "source": [
    "##### flatMap\n",
    "The flatMap method is a higher-order method that takes an input function, which returns a sequence for\n",
    "each input element passed to it. The flatMap method returns a new RDD formed by flattening this collection\n",
    "of sequence. The concept and usefulness of a flatMap can be easily explained with the following example:"
   ]
  },
  {
   "cell_type": "code",
   "execution_count": 15,
   "metadata": {},
   "outputs": [
    {
     "data": {
      "text/plain": [
       "'Adventure|Animation|Children|Comedy|Fantasy'"
      ]
     },
     "execution_count": 15,
     "metadata": {},
     "output_type": "execute_result"
    }
   ],
   "source": [
    "# notice the last field of the movie info, you have multiple categories associated with a single movie\n",
    "movie_info_list_rdd.first()[-1]"
   ]
  },
  {
   "cell_type": "code",
   "execution_count": 19,
   "metadata": {
    "scrolled": true
   },
   "outputs": [
    {
     "data": {
      "text/plain": [
       "['Adventure',\n",
       " 'Animation',\n",
       " 'Children',\n",
       " 'Comedy',\n",
       " 'Fantasy',\n",
       " 'Adventure',\n",
       " 'Children',\n",
       " 'Fantasy',\n",
       " 'Comedy',\n",
       " 'Romance']"
      ]
     },
     "execution_count": 19,
     "metadata": {},
     "output_type": "execute_result"
    }
   ],
   "source": [
    "# if we want to do a count each categories appear, we can use flatmap to easily get our answer\n",
    "# using a flatmap on top of the movie category element causes each entry within the list (categories) to be a single entry/line/tuple in our RDD\n",
    "movie_cat_rdd = movie_info_list_rdd.flatMap(lambda x: x[-1].split('|'))\n",
    "movie_cat_rdd.take(10)"
   ]
  },
  {
   "cell_type": "code",
   "execution_count": 21,
   "metadata": {},
   "outputs": [
    {
     "data": {
      "text/plain": [
       "[['Adventure', 'Animation', 'Children', 'Comedy', 'Fantasy'],\n",
       " ['Adventure', 'Children', 'Fantasy'],\n",
       " ['Comedy', 'Romance'],\n",
       " ['Comedy', 'Drama', 'Romance'],\n",
       " ['Comedy'],\n",
       " ['Action', 'Crime', 'Thriller'],\n",
       " ['Comedy', 'Romance'],\n",
       " ['Adventure', 'Children'],\n",
       " ['Action'],\n",
       " ['Action', 'Adventure', 'Thriller']]"
      ]
     },
     "execution_count": 21,
     "metadata": {},
     "output_type": "execute_result"
    }
   ],
   "source": [
    "# if we want to do a count each categories appear, we can use flatmap to easily get our answer\n",
    "# using a flatmap on top of the movie category element causes each entry within the list (categories) to be a single entry/line/tuple in our RDD\n",
    "movie_cat_rdd2 = movie_info_list_rdd.map(lambda x: x[-1].split('|'))\n",
    "movie_cat_rdd2.take(10)"
   ]
  },
  {
   "cell_type": "code",
   "execution_count": 20,
   "metadata": {
    "scrolled": false
   },
   "outputs": [
    {
     "data": {
      "text/plain": [
       "[('Drama', 4365),\n",
       " ('Comedy', 3315),\n",
       " ('Thriller', 1729),\n",
       " ('Romance', 1545),\n",
       " ('Action', 1545),\n",
       " ('Adventure', 1117),\n",
       " ('Crime', 1100),\n",
       " ('Horror', 877),\n",
       " ('Sci-Fi', 792),\n",
       " ('Fantasy', 654),\n",
       " ('Children', 583),\n",
       " ('Mystery', 543),\n",
       " ('Documentary', 495),\n",
       " ('Animation', 447),\n",
       " ('Musical', 394),\n",
       " ('War', 367),\n",
       " ('Western', 168),\n",
       " ('IMAX', 153),\n",
       " ('Film-Noir', 133),\n",
       " ('(no genres listed)', 18)]"
      ]
     },
     "execution_count": 20,
     "metadata": {},
     "output_type": "execute_result"
    }
   ],
   "source": [
    "# now we can easily get our category count by using the count by value action (which does exactly what the name suggests).\n",
    "cat_count = movie_cat_rdd.countByValue()\n",
    "# we can print out the result in a sorted way using python\n",
    "sorted(cat_count.items(), key=lambda k_v: k_v[1], reverse=True)"
   ]
  },
  {
   "cell_type": "code",
   "execution_count": null,
   "metadata": {},
   "outputs": [],
   "source": []
  },
  {
   "cell_type": "markdown",
   "metadata": {},
   "source": [
    "##### Writing Custom Functions\n",
    "You can write custom functions to process each line within RDD, as illustrated below.\n",
    "\n",
    "Take the following problem: We want to know what is the oldest movie we have in our dataset. In the movie name the year is given in paranthesis, i.e. Toy Story (1995). We need to extract this year from every name and then convert it to integer. Then we can use the action 'min' to find the minimum value in our data. However, to extract this year, we need to do some special processing. This is where our custom function will come in handy."
   ]
  },
  {
   "cell_type": "code",
   "execution_count": 28,
   "metadata": {},
   "outputs": [],
   "source": [
    "# we will extract the year with this function. if there is problem with our data we will just return a None value\n",
    "import re\n",
    "def get_year(name):\n",
    "    year = None\n",
    "    try:\n",
    "      pattern = re.compile(r\"\\((\\d{4})\\)\")\n",
    "      year = int(pattern.findall(name)[0])\n",
    "    except ValueError:\n",
    "      pass\n",
    "    except IndexError:\n",
    "      pass\n",
    "    \n",
    "    return year"
   ]
  },
  {
   "cell_type": "code",
   "execution_count": 29,
   "metadata": {},
   "outputs": [],
   "source": [
    "# we can use the map operation to apply our custom function to every name in our rdd\n",
    "movie_year_rdd = movie_info_list_rdd.map(lambda x: get_year(x[1]))"
   ]
  },
  {
   "cell_type": "code",
   "execution_count": 30,
   "metadata": {},
   "outputs": [
    {
     "data": {
      "text/plain": [
       "1916"
      ]
     },
     "execution_count": 30,
     "metadata": {},
     "output_type": "execute_result"
    }
   ],
   "source": [
    "# we can use the min action to get the oldest movie year. however as you see there was some issue with the data or parsing and we are getting 6 back as our result\n",
    "movie_year_rdd.filter(lambda x: x is not None).min()"
   ]
  },
  {
   "cell_type": "code",
   "execution_count": 31,
   "metadata": {},
   "outputs": [
    {
     "data": {
      "text/plain": [
       "1916"
      ]
     },
     "execution_count": 31,
     "metadata": {},
     "output_type": "execute_result"
    }
   ],
   "source": [
    "# so instead of trying to investigate what happened we will simply apply a filter and only consider value above 1000 to get our oldest movie year\n",
    "movie_year_rdd.filter(lambda x: x is not None).filter(lambda x: x  > 1000).min()"
   ]
  },
  {
   "cell_type": "code",
   "execution_count": 32,
   "metadata": {},
   "outputs": [
    {
     "data": {
      "text/plain": [
       "2016"
      ]
     },
     "execution_count": 32,
     "metadata": {},
     "output_type": "execute_result"
    }
   ],
   "source": [
    "movie_year_rdd.filter(lambda x: x is not None).max()"
   ]
  },
  {
   "cell_type": "markdown",
   "metadata": {},
   "source": [
    "#### Read The Docs\n",
    "Of course these are just the basic, there are many more transformation operations you can do with your RDD. All of them can be found in the official documentaiton: https://spark.apache.org/docs/latest/api/python/pyspark.html#pyspark.RDD\n",
    "Here are a few more just to give you some idea:"
   ]
  },
  {
   "cell_type": "markdown",
   "metadata": {},
   "source": [
    "##### union\n",
    "The union method takes an RDD as input and returns a new RDD that contains the union of the elements in the source RDD and the RDD passed to it as an input.\n",
    "\n",
    "```linesFile1 = sc.textFile(\"...\")\n",
    "linesFile2 = sc.textFile(\"...\")\n",
    "linesFromBothFiles = linesFile1.union(linesFile2)```"
   ]
  },
  {
   "cell_type": "code",
   "execution_count": 33,
   "metadata": {},
   "outputs": [
    {
     "data": {
      "text/plain": [
       "['Lion', 'Dolphin', 'Whale', 'Shark', 'Dolphin', 'Whale']"
      ]
     },
     "execution_count": 33,
     "metadata": {},
     "output_type": "execute_result"
    }
   ],
   "source": [
    "mammals = sc.parallelize([\"Lion\", \"Dolphin\", \"Whale\"])\n",
    "aquatics = sc.parallelize([\"Shark\", \"Dolphin\", \"Whale\"])\n",
    "zoo = mammals.union(aquatics)\n",
    "zoo.collect()"
   ]
  },
  {
   "cell_type": "markdown",
   "metadata": {},
   "source": [
    "##### intersection\n",
    "The intersection method takes an RDD as input and returns a new RDD that contains the intersection of\n",
    "the elements in the source RDD and the RDD passed to it as an input.\n",
    "\n",
    "```val linesFile1 = sc.textFile(\"...\")\n",
    "val linesFile2 = sc.textFile(\"...\")\n",
    "val linesPresentInBothFiles = linesFile1.intersection(linesFile2)```"
   ]
  },
  {
   "cell_type": "code",
   "execution_count": 34,
   "metadata": {},
   "outputs": [
    {
     "data": {
      "text/plain": [
       "['Dolphin', 'Whale']"
      ]
     },
     "execution_count": 34,
     "metadata": {},
     "output_type": "execute_result"
    }
   ],
   "source": [
    "mammals = sc.parallelize([\"Lion\", \"Dolphin\", \"Whale\"])\n",
    "aquatics = sc.parallelize([\"Shark\", \"Dolphin\", \"Whale\"])\n",
    "aquaticMammals = mammals.intersection(aquatics)\n",
    "aquaticMammals.collect()"
   ]
  },
  {
   "cell_type": "markdown",
   "metadata": {},
   "source": [
    "##### subtract\n",
    "The subtract method takes an RDD as input and returns a new RDD that contains elements in the source\n",
    "RDD but not in the input RDD.\n",
    "```linesFile1 = sc.textFile(\"...\")\n",
    "linesFile2 = sc.textFile(\"...\")\n",
    "linesInFile1Only = linesFile1.subtract(linesFile2)```"
   ]
  },
  {
   "cell_type": "code",
   "execution_count": 36,
   "metadata": {},
   "outputs": [
    {
     "data": {
      "text/plain": [
       "['Shark']"
      ]
     },
     "execution_count": 36,
     "metadata": {},
     "output_type": "execute_result"
    }
   ],
   "source": [
    "mammals = sc.parallelize([\"Lion\", \"Dolphin\", \"Whale\"])\n",
    "aquatics =sc.parallelize([\"Shark\", \"Dolphin\", \"Whale\"])\n",
    "fishes = aquatics.subtract(mammals)\n",
    "fishes.collect()"
   ]
  },
  {
   "cell_type": "markdown",
   "metadata": {},
   "source": [
    "##### distinct\n",
    "The distinct method of an RDD returns a new RDD containing the distinct elements in the source RDD"
   ]
  },
  {
   "cell_type": "code",
   "execution_count": 37,
   "metadata": {},
   "outputs": [
    {
     "data": {
      "text/plain": [
       "['Dolphin', 'Shark', 'Whale', 'Lion']"
      ]
     },
     "execution_count": 37,
     "metadata": {},
     "output_type": "execute_result"
    }
   ],
   "source": [
    "sc.parallelize([\"Lion\", \"Dolphin\", \"Whale\",\"Shark\", \"Dolphin\", \"Whale\"]).distinct().collect()"
   ]
  },
  {
   "cell_type": "code",
   "execution_count": null,
   "metadata": {},
   "outputs": [],
   "source": []
  }
 ],
 "metadata": {
  "kernelspec": {
   "display_name": "Python 3",
   "language": "python",
   "name": "python3"
  },
  "language_info": {
   "codemirror_mode": {
    "name": "ipython",
    "version": 3
   },
   "file_extension": ".py",
   "mimetype": "text/x-python",
   "name": "python",
   "nbconvert_exporter": "python",
   "pygments_lexer": "ipython3",
   "version": "3.6.9"
  },
  "name": "Spark Lab 2 Public",
  "notebookId": 2816521733007191
 },
 "nbformat": 4,
 "nbformat_minor": 1
}
