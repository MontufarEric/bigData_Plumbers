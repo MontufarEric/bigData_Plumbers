{
 "cells": [
  {
   "cell_type": "markdown",
   "metadata": {},
   "source": [
    "### Introducing Apache Spark\n",
    "\n",
    "Spark started in 2009 as a research project in the UC Berkeley RAD Lab, which later became the AMPLab. The researchers in the lab had previously been working on Hadoop MapReduce and observed that MR was inefficient for iterative and interactive computing jobs. Thus, from the beginning, Spark was designed to be fast for interactive queries and iterative algorithms, bringing in ideas such as support for in-memory storage and efficient fault recovery.\n",
    "\n",
    "In 2011, the AMPLab started to develop higher-level components on Spark such as Shark and Spark Streaming. These components are sometimes referred to as the Berkeley Data Analytics Stack (BDAS). Spark was first open sourced in March 2010 and transferred to the Apache Software Foundation in June 2013.\n",
    "\n",
    "In February 2014, it became a top-level project at the Apache Software Foundation. Spark has since become one of the largest open source communities in Big Data. Now, over 250 contributors in over 50 organizations are contributing to Spark development. The user base has increased tremendously from small companies to Fortune 500 companies."
   ]
  },
  {
   "cell_type": "markdown",
   "metadata": {},
   "source": [
    "### What is Apache Spark?\n",
    "Let's understand what Apache Spark is and what makes it a force to reckon with in Big Data analytics:\n",
    "* Apache Spark is a fast enterprise-grade large-scale data processing engine, which is interoperable with Apache Hadoop.\n",
    "* It is written in Scala, which is both an object-oriented and functional programming language that runs in a JVM.\n",
    "* Spark enables applications to distribute data reliably in-memory during processing. This is the key to Spark's performance as it allows applications to avoid expensive disk access and performs computations at memory speeds.\n",
    "* It is suitable for iterative algorithms by having every iteration access data through memory.\n",
    "* Spark programs perform 100 times faster than MR in-memory or 10 times faster on disk (http://spark.apache.org/).\n",
    "* It provides native support for Java, Scala, Python, and R languages with interactive shells for Scala, Python, and R. Applications can be developed easily, and often 2 to 10 times less code is needed.\n",
    "* Spark powers a stack of libraries, including Spark SQL and DataFrames for interactive analytics, MLlib for machine learning, GraphX for graph processing, and Spark Streaming for real-time analytics. You can combine these features seamlessly in the same application.\n",
    "* Spark runs on Hadoop, Mesos, standalone cluster managers, on-premise hardware, or in the cloud"
   ]
  },
  {
   "cell_type": "markdown",
   "metadata": {},
   "source": [
    "### What Apache Spark is not\n",
    "Hadoop provides storage and compute (with HDFS & MapReduce). However, Spark does not provide any specific storage medium. Spark is mainly a compute engine. Spark has the ability to create distributed datasets from any file stored in the HDFS or other storage systems supported by Hadoop APIs (including your local filesystem, Amazon S3, Cassandra, Hive, HBase, Elasticsearch, and others). It's important to note that Spark is not Hadoop and does not require Hadoop to run it. Spark also supports text files, sequence files, Avro, Parquet, and any other Hadoop InputFormat."
   ]
  },
  {
   "cell_type": "markdown",
   "metadata": {},
   "source": [
    "### Start With A SparkContext\n",
    "\n",
    "Spark context sets up internal services and establishes a connection to a Spark execution environment. Once a SparkContext is created you can use it to create RDDs, accumulators and broadcast variables, access Spark services and run jobs (until SparkContext is stopped)."
   ]
  },
  {
   "cell_type": "code",
   "execution_count": 5,
   "metadata": {},
   "outputs": [],
   "source": [
    "from pyspark import SparkContext, SparkConf"
   ]
  },
  {
   "cell_type": "code",
   "execution_count": 6,
   "metadata": {},
   "outputs": [],
   "source": [
    "if not 'sc' in globals():\n",
    "    conf = SparkConf().setMaster('local[*]')\n",
    "    sc = SparkContext(conf=conf)"
   ]
  },
  {
   "cell_type": "code",
   "execution_count": 7,
   "metadata": {},
   "outputs": [],
   "source": [
    "# print out spark version\n",
    "sc.version"
   ]
  },
  {
   "cell_type": "markdown",
   "metadata": {},
   "source": [
    "#### Resilient Distributed Dataset\n",
    "RDDs are a fundamental unit of data in Spark and Spark programming revolves around creating and performing operations on RDDs. They are immutable collections partitioned across clusters that can be rebuilt (re-computed) if a partition is lost. They are created by transforming data in a stable storage using data flow operators (map, filter, group-by) and can be cached in memory across parallel operations:\n",
    "\n",
    "* Resilient: If data in memory is lost, it can be recreated (or recomputed)\n",
    "* Distributed: Distributed across clusters\n",
    "* Dataset: Initial data can come from a file or created programmatically\n",
    "\n",
    "There are a couple of ways to create an RDD: parallelize, or read from a file. Before we can do that, we need to load some data into our Databricks environment."
   ]
  },
  {
   "cell_type": "markdown",
   "metadata": {},
   "source": [
    "#### Loading the Movielens data (https://grouplens.org/datasets/movielens/)\n",
    "**Context**: GroupLens Research has collected and made available rating data sets from the MovieLens web site. The data sets were collected over various periods of time, depending on the size of the set. Before using these data sets, please review their README files for the usage licenses and other details\n",
    "\n",
    "To understand the data please the movielens dataset section in our GitHub repository: https://github.com/open-dse/architect_big_data_solutions_spark/tree/master/Datasets/movielens\n",
    "\n",
    "#### Loading To Databricks\n",
    "You should load the movielens data from the Dataset folder of the course into Databricks. To do so use this guide: https://docs.databricks.com/user-guide/importing-data.html\n",
    "In general, you need to go to click on the Data icon on the left side of this notebook. Once you have two vertical slides pop up, click on the + sign of the Table section (or the Add Data button on top). Then select \"upload file\" and upload the files into the Filestore. You don't need to create a table, once the upload is completed we can proceed."
   ]
  },
  {
   "cell_type": "code",
   "execution_count": 10,
   "metadata": {},
   "outputs": [],
   "source": [
    "# For now we will just read data from a text file\n",
    "input_rdd = sc.textFile(\"/FileStore/tables/movielens/movies.csv\")\n",
    "# show the first 10 instances of the data\n",
    "input_rdd.take(10)"
   ]
  },
  {
   "cell_type": "markdown",
   "metadata": {},
   "source": [
    "### There are two types of RDD operations - transformations and actions.\n",
    "**Transformations** define new RDDs based on the current RDD. **Actions** return values\n",
    "from RDDs. We will cover them in the following labs."
   ]
  }
 ],
 "metadata": {
  "kernelspec": {
   "display_name": "Python 3",
   "language": "python",
   "name": "python3"
  },
  "language_info": {
   "codemirror_mode": {
    "name": "ipython",
    "version": 3
   },
   "file_extension": ".py",
   "mimetype": "text/x-python",
   "name": "python",
   "nbconvert_exporter": "python",
   "pygments_lexer": "ipython3",
   "version": "3.6.9"
  },
  "name": "Spark Lab 1 Public",
  "notebookId": 2816521733007172
 },
 "nbformat": 4,
 "nbformat_minor": 1
}
