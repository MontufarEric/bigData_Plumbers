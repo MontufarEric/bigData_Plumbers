{
 "cells": [
  {
   "cell_type": "code",
   "execution_count": 1,
   "metadata": {},
   "outputs": [],
   "source": [
    "# load the dataset into an RDD to get started\n",
    "input_rdd = sc.textFile(\"/FileStore/tables/movielens/movies.csv\")"
   ]
  },
  {
   "cell_type": "code",
   "execution_count": 2,
   "metadata": {},
   "outputs": [],
   "source": [
    "# we will extract the year with this function. if there is problem with our data we will just return a None value\n",
    "import re\n",
    "def get_year(name):\n",
    "    year = None\n",
    "    try:\n",
    "      pattern = re.compile(r\"\\((\\d+)\\)\")\n",
    "      year = int(pattern.findall(name)[0])\n",
    "    except ValueError:\n",
    "      pass\n",
    "    except IndexError:\n",
    "      pass\n",
    "    \n",
    "    return year"
   ]
  },
  {
   "cell_type": "code",
   "execution_count": 3,
   "metadata": {},
   "outputs": [],
   "source": [
    "movie_info_rdd = input_rdd.filter(lambda line: 'movieId' not in line)\n",
    "movie_info_list_rdd = movie_info_rdd.map(lambda x: x.split(','))"
   ]
  },
  {
   "cell_type": "code",
   "execution_count": 4,
   "metadata": {},
   "outputs": [],
   "source": [
    "# we can use the map operation to apply our custom function to every name in our rdd\n",
    "movie_year_rdd = movie_info_list_rdd.map(lambda x: get_year(x[1]))"
   ]
  },
  {
   "cell_type": "markdown",
   "metadata": {},
   "source": [
    "### Actions\n",
    "Actions are RDD methods that return a value to a driver program. This section discusses the commonly used\n",
    "RDD actions. Spark will only \"go to work\" when you apply an action on top of your RDD."
   ]
  },
  {
   "cell_type": "markdown",
   "metadata": {},
   "source": [
    "##### collect\n",
    "The collect method returns the elements in the source RDD as an array. This method should be used with\n",
    "caution since it moves data from all the worker nodes to the driver program. It can crash the driver program\n",
    "if called on a very large RDD."
   ]
  },
  {
   "cell_type": "code",
   "execution_count": 7,
   "metadata": {},
   "outputs": [],
   "source": [
    "# lets print out all the different years we have movies from in our data\n",
    "movie_year_rdd.distinct().collect()"
   ]
  },
  {
   "cell_type": "markdown",
   "metadata": {},
   "source": [
    "##### count\n",
    "The count method returns a count of the elements in the source RDD"
   ]
  },
  {
   "cell_type": "code",
   "execution_count": 9,
   "metadata": {},
   "outputs": [],
   "source": [
    "# count the number of movies we have in our data\n",
    "movie_year_rdd.count()"
   ]
  },
  {
   "cell_type": "markdown",
   "metadata": {},
   "source": [
    "##### countByValue\n",
    "The countByValue method returns a count of each unique element in the source RDD. It returns an instance\n",
    "of the Map class containing each unique element and its count as a key-value pair."
   ]
  },
  {
   "cell_type": "code",
   "execution_count": 11,
   "metadata": {},
   "outputs": [],
   "source": [
    "# count the number of movies we have from every year\n",
    "movie_year_rdd.countByValue()"
   ]
  },
  {
   "cell_type": "markdown",
   "metadata": {},
   "source": [
    "##### first\n",
    "The first method returns the first element in the source RDD"
   ]
  },
  {
   "cell_type": "code",
   "execution_count": 13,
   "metadata": {},
   "outputs": [],
   "source": [
    "movie_year_rdd.first()"
   ]
  },
  {
   "cell_type": "markdown",
   "metadata": {},
   "source": [
    "##### max\n",
    "The max method returns the largest element in an RDD"
   ]
  },
  {
   "cell_type": "code",
   "execution_count": 15,
   "metadata": {},
   "outputs": [],
   "source": [
    "movie_year_rdd.max()"
   ]
  },
  {
   "cell_type": "markdown",
   "metadata": {},
   "source": [
    "##### min\n",
    "The min method returns the smallest element in an RDD."
   ]
  },
  {
   "cell_type": "code",
   "execution_count": 17,
   "metadata": {},
   "outputs": [],
   "source": [
    "movie_year_rdd.filter(lambda x: x is not None).min()"
   ]
  },
  {
   "cell_type": "markdown",
   "metadata": {},
   "source": [
    "##### take\n",
    "The take method takes an integer N as input and returns an array containing the first N element in the\n",
    "source RDD."
   ]
  },
  {
   "cell_type": "code",
   "execution_count": 19,
   "metadata": {},
   "outputs": [],
   "source": [
    "movie_year_rdd.take(10)"
   ]
  },
  {
   "cell_type": "markdown",
   "metadata": {},
   "source": [
    "##### takeOrdered\n",
    "The takeOrdered method takes an integer N as input and returns an array containing the N smallest\n",
    "elements in the source RDD"
   ]
  },
  {
   "cell_type": "code",
   "execution_count": 21,
   "metadata": {},
   "outputs": [],
   "source": [
    "movie_year_rdd.filter(lambda x: x is not None).takeOrdered(10)"
   ]
  },
  {
   "cell_type": "code",
   "execution_count": 22,
   "metadata": {},
   "outputs": [],
   "source": [
    "movie_year_rdd.filter(lambda x: x is not None).distinct().takeOrdered(5, key = lambda x: -x)"
   ]
  },
  {
   "cell_type": "markdown",
   "metadata": {},
   "source": [
    "##### top\n",
    "The top method takes an integer N as input and returns an array containing the N largest elements in the\n",
    "source RDD."
   ]
  },
  {
   "cell_type": "code",
   "execution_count": 24,
   "metadata": {},
   "outputs": [],
   "source": [
    "movie_year_rdd.filter(lambda x: x is not None).top(3)"
   ]
  },
  {
   "cell_type": "markdown",
   "metadata": {},
   "source": [
    "### Actions on RDD of Numeric Types\n",
    "\n",
    "RDDs containing data elements of type Integer, Long, Float, or Double support a few additional actions that are useful for statistical analysis. The commonly used actions from this group are briefly described next"
   ]
  },
  {
   "cell_type": "markdown",
   "metadata": {},
   "source": [
    "##### mean\n",
    "The mean method returns the average of the elements in the source RDD."
   ]
  },
  {
   "cell_type": "code",
   "execution_count": 27,
   "metadata": {},
   "outputs": [],
   "source": [
    "sc.parallelize([1,2,3,4,5,6,7,8,9,10]).mean()"
   ]
  },
  {
   "cell_type": "markdown",
   "metadata": {},
   "source": [
    "##### stdev\n",
    "The stdev method returns the standard deviation of the elements in the source RDD."
   ]
  },
  {
   "cell_type": "code",
   "execution_count": 29,
   "metadata": {},
   "outputs": [],
   "source": [
    "sc.parallelize([1,2,3,4,5,6,7,8,9,10]).stdev()"
   ]
  },
  {
   "cell_type": "markdown",
   "metadata": {},
   "source": [
    "##### sum\n",
    "The sum method returns the sum of the elements in the source RDD"
   ]
  },
  {
   "cell_type": "code",
   "execution_count": 31,
   "metadata": {},
   "outputs": [],
   "source": [
    "sc.parallelize([1,2,3,4,5,6,7,8,9,10]).sum()"
   ]
  },
  {
   "cell_type": "markdown",
   "metadata": {},
   "source": [
    "#### variance\n",
    "The variance method returns the variance of the elements in the source RDD"
   ]
  },
  {
   "cell_type": "code",
   "execution_count": 33,
   "metadata": {},
   "outputs": [],
   "source": [
    "sc.parallelize([1,2,3,4,5,6,7,8,9,10]).sum()"
   ]
  },
  {
   "cell_type": "markdown",
   "metadata": {},
   "source": [
    "### Saving an RDD"
   ]
  },
  {
   "cell_type": "markdown",
   "metadata": {},
   "source": [
    "##### saveAsTextFile\n",
    "The saveAsTextFile method saves the elements of the source RDD in the specified directory on any\n",
    "Hadoop-supported file system. Each RDD element is converted to its string representation and stored as a\n",
    "line of text"
   ]
  },
  {
   "cell_type": "markdown",
   "metadata": {},
   "source": [
    "##### saveAsObjectFile\n",
    "The saveAsObjectFile method saves the elements of the source RDD as serialized Java objects in the specified directory."
   ]
  },
  {
   "cell_type": "markdown",
   "metadata": {},
   "source": [
    "##### saveAsSequenceFile\n",
    "The saveAsSequenceFile method saves an RDD of key-value pairs in SequenceFile format. An RDD of keyvalue pairs can also be saved in text format using the saveAsTextFile."
   ]
  }
 ],
 "metadata": {
  "kernelspec": {
   "display_name": "Python 3",
   "language": "python",
   "name": "python3"
  },
  "language_info": {
   "codemirror_mode": {
    "name": "ipython",
    "version": 3
   },
   "file_extension": ".py",
   "mimetype": "text/x-python",
   "name": "python",
   "nbconvert_exporter": "python",
   "pygments_lexer": "ipython3",
   "version": "3.6.9"
  },
  "name": "Spark Lab 3 Public",
  "notebookId": 2816521733007236
 },
 "nbformat": 4,
 "nbformat_minor": 1
}
