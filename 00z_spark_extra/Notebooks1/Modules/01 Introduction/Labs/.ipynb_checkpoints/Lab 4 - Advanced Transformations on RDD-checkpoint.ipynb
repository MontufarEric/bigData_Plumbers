{
 "cells": [
  {
   "cell_type": "code",
   "execution_count": 1,
   "metadata": {},
   "outputs": [],
   "source": [
    "from pyspark import SparkContext, SparkConf"
   ]
  },
  {
   "cell_type": "code",
   "execution_count": 2,
   "metadata": {},
   "outputs": [],
   "source": [
    "if not 'sc' in globals():\n",
    "    conf = SparkConf().setMaster('local[*]')\n",
    "    sc = SparkContext(conf=conf)"
   ]
  },
  {
   "cell_type": "markdown",
   "metadata": {},
   "source": [
    "For this lab we will use the movie ratings file from our movielens dataset. This file contains user rating of different movies."
   ]
  },
  {
   "cell_type": "code",
   "execution_count": 5,
   "metadata": {},
   "outputs": [],
   "source": [
    "# load the dataset into an RDD to get started\n",
    "input_rdd = sc.textFile(\"/home/fieldengineer/Documents/courses/architect_big_data_solutions_with_spark-master/Datasets//movielens/ratings.csv\")"
   ]
  },
  {
   "cell_type": "code",
   "execution_count": 6,
   "metadata": {},
   "outputs": [
    {
     "data": {
      "text/plain": [
       "['userId,movieId,rating,timestamp',\n",
       " '1,31,2.5,1260759144',\n",
       " '1,1029,3.0,1260759179',\n",
       " '1,1061,3.0,1260759182',\n",
       " '1,1129,2.0,1260759185',\n",
       " '1,1172,4.0,1260759205',\n",
       " '1,1263,2.0,1260759151',\n",
       " '1,1287,2.0,1260759187',\n",
       " '1,1293,2.0,1260759148',\n",
       " '1,1339,3.5,1260759125']"
      ]
     },
     "execution_count": 6,
     "metadata": {},
     "output_type": "execute_result"
    }
   ],
   "source": [
    "# lets take a look and see what is in this data\n",
    "input_rdd.take(10)"
   ]
  },
  {
   "cell_type": "code",
   "execution_count": 7,
   "metadata": {},
   "outputs": [
    {
     "data": {
      "text/plain": [
       "[['1', '31', '2.5', '1260759144'],\n",
       " ['1', '1029', '3.0', '1260759179'],\n",
       " ['1', '1061', '3.0', '1260759182'],\n",
       " ['1', '1129', '2.0', '1260759185'],\n",
       " ['1', '1172', '4.0', '1260759205'],\n",
       " ['1', '1263', '2.0', '1260759151'],\n",
       " ['1', '1287', '2.0', '1260759187'],\n",
       " ['1', '1293', '2.0', '1260759148'],\n",
       " ['1', '1339', '3.5', '1260759125'],\n",
       " ['1', '1343', '2.0', '1260759131']]"
      ]
     },
     "execution_count": 7,
     "metadata": {},
     "output_type": "execute_result"
    }
   ],
   "source": [
    "# like before we will filter out the header column and create an list-rdd\n",
    "movie_ratings_rdd = input_rdd.filter(lambda line: 'userId' not in line)\n",
    "movie_ratings_rdd_rdd = movie_ratings_rdd.map(lambda x: x.split(','))\n",
    "movie_ratings_rdd_rdd.take(10)"
   ]
  },
  {
   "cell_type": "markdown",
   "metadata": {},
   "source": [
    "### Transformations on RDD of key-value Pairs\n",
    "Key value pair is as a data structure consisting of a two elements key and a value. Structuring your data in a key-value pair enables you to do further interesting transformation on them, as we will see in this section."
   ]
  },
  {
   "cell_type": "markdown",
   "metadata": {},
   "source": [
    "If we are interested to know which movie received the lowest rating overall we can solve with a simple key-value transformation. First we will create a key value pair of the movie id and the user rating"
   ]
  },
  {
   "cell_type": "code",
   "execution_count": 8,
   "metadata": {},
   "outputs": [],
   "source": [
    "# create a (movie id, rating) key value pair\n",
    "movie_ratings_rdd = movie_ratings_rdd_rdd.map(lambda x: (x[1],float(x[2])))"
   ]
  },
  {
   "cell_type": "code",
   "execution_count": 11,
   "metadata": {},
   "outputs": [
    {
     "data": {
      "text/plain": [
       "[('31', 2.5), ('1029', 3.0)]"
      ]
     },
     "execution_count": 11,
     "metadata": {},
     "output_type": "execute_result"
    }
   ],
   "source": [
    "movie_ratings_rdd.take(2)"
   ]
  },
  {
   "cell_type": "code",
   "execution_count": 12,
   "metadata": {},
   "outputs": [
    {
     "data": {
      "text/plain": [
       "[2.5, 2.0, 4.0, 4.5, 0.5, 3.0, 3.5, 1.0, 5.0, 1.5]"
      ]
     },
     "execution_count": 12,
     "metadata": {},
     "output_type": "execute_result"
    }
   ],
   "source": [
    "# Lets take a look at all the values in our dataset to see if we have any unexpected value we should remove\n",
    "movie_ratings_rdd.map(lambda x: x[1]).distinct().collect()"
   ]
  },
  {
   "cell_type": "markdown",
   "metadata": {},
   "source": [
    "as the data looks good we can proceed to finding out the count"
   ]
  },
  {
   "cell_type": "markdown",
   "metadata": {},
   "source": [
    "### reduceByKey\n",
    "\n",
    "The higher-order reduceByKey method takes an associative binary operator as input and reduces values with the same key to a single value using the specified binary operator.\n",
    "\n",
    "A binary operator takes two values as input and returns a single value as output. An associative operator returns the same result regardless of the grouping of the operands.\n",
    "\n",
    "The reduceByKey method can be used for aggregating values by key. For example, it can be used for calculating sum, product, minimum or maximum of all the values mapped to the same key."
   ]
  },
  {
   "cell_type": "code",
   "execution_count": 13,
   "metadata": {},
   "outputs": [],
   "source": [
    "# reduce by key (airline) to get the total departure delay per airline\n",
    "ratings_sum_rdd = movie_ratings_rdd.reduceByKey(lambda value1, value2: value1 + value2)"
   ]
  },
  {
   "cell_type": "code",
   "execution_count": 16,
   "metadata": {},
   "outputs": [
    {
     "data": {
      "text/plain": [
       "[('1129', 159.0),\n",
       " ('1293', 183.0),\n",
       " ('1339', 171.5),\n",
       " ('1405', 139.5),\n",
       " ('2105', 163.5),\n",
       " ('2150', 126.5),\n",
       " ('2455', 159.5),\n",
       " ('10', 421.0),\n",
       " ('17', 337.5),\n",
       " ('50', 878.5)]"
      ]
     },
     "execution_count": 16,
     "metadata": {},
     "output_type": "execute_result"
    }
   ],
   "source": [
    "ratings_sum_rdd.take(10)"
   ]
  },
  {
   "cell_type": "code",
   "execution_count": 19,
   "metadata": {},
   "outputs": [
    {
     "data": {
      "text/plain": [
       "[('88950', 0.5),\n",
       " ('152057', 0.5),\n",
       " ('27376', 0.5),\n",
       " ('6298', 0.5),\n",
       " ('31290', 0.5),\n",
       " ('47815', 0.5),\n",
       " ('48591', 0.5),\n",
       " ('66066', 0.5),\n",
       " ('39408', 0.5),\n",
       " ('66659', 0.5),\n",
       " ('6284', 0.5),\n",
       " ('7282', 0.5),\n",
       " ('7093', 0.5),\n",
       " ('7448', 0.5),\n",
       " ('5850', 0.5),\n",
       " ('25737', 0.5),\n",
       " ('25826', 0.5),\n",
       " ('25901', 0.5),\n",
       " ('26188', 0.5),\n",
       " ('32844', 0.5),\n",
       " ('53038', 0.5),\n",
       " ('54910', 0.5),\n",
       " ('60990', 0.5),\n",
       " ('69974', 0.5),\n",
       " ('78122', 0.5),\n",
       " ('95740', 0.5),\n",
       " ('4684', 0.5),\n",
       " ('6109', 0.5),\n",
       " ('26157', 0.5),\n",
       " ('2191', 0.5),\n",
       " ('3883', 0.5),\n",
       " ('4753', 0.5),\n",
       " ('5278', 0.5),\n",
       " ('5413', 0.5),\n",
       " ('5864', 0.5),\n",
       " ('7312', 0.5),\n",
       " ('32153', 0.5),\n",
       " ('46574', 0.5),\n",
       " ('54768', 0.5),\n",
       " ('61465', 0.5),\n",
       " ('3933', 0.5),\n",
       " ('5356', 0.5),\n",
       " ('6514', 0.5),\n",
       " ('8290', 0.5),\n",
       " ('125916', 0.5),\n",
       " ('90870', 0.5),\n",
       " ('95443', 0.5),\n",
       " ('108689', 0.5),\n",
       " ('159972', 0.5),\n",
       " ('161155', 0.5),\n",
       " ('8811', 0.5),\n",
       " ('58146', 0.5),\n",
       " ('68965', 0.5),\n",
       " ('70946', 0.5),\n",
       " ('116939', 0.5),\n",
       " ('2845', 0.5),\n",
       " ('6872', 0.5),\n",
       " ('59834', 0.5),\n",
       " ('70121', 0.5),\n",
       " ('71876', 0.5),\n",
       " ('51304', 0.5),\n",
       " ('8963', 0.5),\n",
       " ('5672', 0.5),\n",
       " ('6644', 0.5),\n",
       " ('8777', 0.5),\n",
       " ('26009', 0.5),\n",
       " ('27857', 0.5),\n",
       " ('53737', 0.5),\n",
       " ('60137', 0.5),\n",
       " ('68884', 0.5),\n",
       " ('74327', 0.5),\n",
       " ('57223', 0.5),\n",
       " ('48522', 0.5),\n",
       " ('6751', 0.5),\n",
       " ('5521', 0.5),\n",
       " ('6671', 0.5),\n",
       " ('26485', 0.5),\n",
       " ('31747', 0.5),\n",
       " ('81898', 0.5),\n",
       " ('1311', 0.5),\n",
       " ('5117', 0.5),\n",
       " ('7204', 0.5),\n",
       " ('4051', 0.5),\n",
       " ('4471', 0.5),\n",
       " ('8136', 0.5),\n",
       " ('129250', 0.5),\n",
       " ('5363', 1.0),\n",
       " ('6547', 1.0),\n",
       " ('6875', 1.0),\n",
       " ('7199', 1.0),\n",
       " ('65802', 1.0),\n",
       " ('83270', 1.0),\n",
       " ('145839', 1.0),\n",
       " ('155820', 1.0),\n",
       " ('159755', 1.0),\n",
       " ('160080', 1.0),\n",
       " ('5366', 1.0),\n",
       " ('48660', 1.0),\n",
       " ('83086', 1.0),\n",
       " ('8859', 1.0),\n",
       " ('31431', 1.0),\n",
       " ('54290', 1.0),\n",
       " ('63540', 1.0),\n",
       " ('102792', 1.0),\n",
       " ('71460', 1.0),\n",
       " ('80350', 1.0),\n",
       " ('4875', 1.0),\n",
       " ('31724', 1.0),\n",
       " ('94480', 1.0),\n",
       " ('43177', 1.0),\n",
       " ('8814', 1.0),\n",
       " ('42721', 1.0),\n",
       " ('64116', 1.0),\n",
       " ('86059', 1.0),\n",
       " ('45662', 1.0),\n",
       " ('64153', 1.0),\n",
       " ('121113', 1.0),\n",
       " ('130448', 1.0),\n",
       " ('78321', 1.0),\n",
       " ('5788', 1.0),\n",
       " ('6014', 1.0),\n",
       " ('6995', 1.0),\n",
       " ('3043', 1.0),\n",
       " ('4569', 1.0),\n",
       " ('33688', 1.0),\n",
       " ('96', 1.0),\n",
       " ('58107', 1.0),\n",
       " ('6600', 1.0),\n",
       " ('4559', 1.0),\n",
       " ('51418', 1.0),\n",
       " ('4215', 1.0),\n",
       " ('33158', 1.0),\n",
       " ('92938', 1.0),\n",
       " ('1154', 1.0),\n",
       " ('4859', 1.0),\n",
       " ('7636', 1.0),\n",
       " ('26430', 1.0),\n",
       " ('26467', 1.0),\n",
       " ('37277', 1.0),\n",
       " ('49013', 1.0),\n",
       " ('526', 1.0),\n",
       " ('980', 1.0),\n",
       " ('1325', 1.0),\n",
       " ('1731', 1.0),\n",
       " ('3820', 1.0),\n",
       " ('3839', 1.0),\n",
       " ('5227', 1.0),\n",
       " ('6771', 1.0),\n",
       " ('5223', 1.0),\n",
       " ('5516', 1.0),\n",
       " ('5575', 1.0),\n",
       " ('1571', 1.0),\n",
       " ('2869', 1.0),\n",
       " ('3303', 1.0),\n",
       " ('4026', 1.0),\n",
       " ('4538', 1.0),\n",
       " ('4984', 1.0),\n",
       " ('5395', 1.0),\n",
       " ('6302', 1.0),\n",
       " ('8447', 1.0),\n",
       " ('112497', 1.0),\n",
       " ('119655', 1.0),\n",
       " ('133545', 1.0),\n",
       " ('136305', 1.0),\n",
       " ('136666', 1.0),\n",
       " ('6425', 1.0),\n",
       " ('4082', 1.0),\n",
       " ('68324', 1.0),\n",
       " ('91505', 1.0),\n",
       " ('106111', 1.0),\n",
       " ('7759', 1.0),\n",
       " ('4615', 1.0),\n",
       " ('5857', 1.0),\n",
       " ('2507', 1.0),\n",
       " ('5585', 1.0),\n",
       " ('64508', 1.0),\n",
       " ('27685', 1.0),\n",
       " ('5556', 1.0),\n",
       " ('27689', 1.0),\n",
       " ('66808', 1.0),\n",
       " ('3432', 1.0),\n",
       " ('6826', 1.0),\n",
       " ('27482', 1.0),\n",
       " ('5910', 1.0),\n",
       " ('3891', 1.0),\n",
       " ('27798', 1.0),\n",
       " ('48972', 1.0),\n",
       " ('80844', 1.0),\n",
       " ('96634', 1.0),\n",
       " ('131451', 1.0),\n",
       " ('141956', 1.0),\n",
       " ('3463', 1.0),\n",
       " ('1324', 1.0),\n",
       " ('56079', 1.0),\n",
       " ('2884', 1.0),\n",
       " ('6012', 1.0),\n",
       " ('6154', 1.0),\n",
       " ('1328', 1.0),\n",
       " ('981', 1.0),\n",
       " ('4687', 1.0),\n",
       " ('56336', 1.0),\n",
       " ('4350', 1.0),\n",
       " ('27351', 1.0),\n",
       " ('84312', 1.0),\n",
       " ('439', 1.0),\n",
       " ('4162', 1.0),\n",
       " ('8722', 1.0),\n",
       " ('573', 1.0),\n",
       " ('60649', 1.0),\n",
       " ('4073', 1.0),\n",
       " ('651', 1.0),\n",
       " ('4674', 1.0),\n",
       " ('4716', 1.0),\n",
       " ('47330', 1.0),\n",
       " ('88932', 1.0),\n",
       " ('137', 1.0),\n",
       " ('1640', 1.0),\n",
       " ('3190', 1.0),\n",
       " ('5042', 1.0),\n",
       " ('32666', 1.0),\n",
       " ('5466', 1.0),\n",
       " ('5503', 1.0),\n",
       " ('5517', 1.0),\n",
       " ('5535', 1.0),\n",
       " ('617', 1.0),\n",
       " ('1164', 1.0),\n",
       " ('1539', 1.0),\n",
       " ('2008', 1.0),\n",
       " ('2063', 1.0),\n",
       " ('3003', 1.0),\n",
       " ('3047', 1.0),\n",
       " ('3338', 1.0),\n",
       " ('4208', 1.0),\n",
       " ('4399', 1.0),\n",
       " ('4592', 1.0),\n",
       " ('4605', 1.0),\n",
       " ('5224', 1.0),\n",
       " ('5236', 1.0),\n",
       " ('5352', 1.0),\n",
       " ('6531', 1.0),\n",
       " ('3276', 1.0),\n",
       " ('3596', 1.0),\n",
       " ('4477', 1.0),\n",
       " ('7016', 1.0),\n",
       " ('7245', 1.0),\n",
       " ('26409', 1.0),\n",
       " ('85399', 1.0),\n",
       " ('104760', 1.0),\n",
       " ('105121', 1.0),\n",
       " ('120635', 1.0),\n",
       " ('128592', 1.0),\n",
       " ('129657', 1.0),\n",
       " ('132462', 1.0),\n",
       " ('161830', 1.0),\n",
       " ('4736', 1.0)]"
      ]
     },
     "execution_count": 19,
     "metadata": {},
     "output_type": "execute_result"
    }
   ],
   "source": [
    "# print out movie id's with low ratings\n",
    "ratings_sum_rdd = ratings_sum_rdd.filter(lambda x: x[1]<1.5)\n",
    "sorted(ratings_sum_rdd.collect(), key=lambda x: x[1])"
   ]
  },
  {
   "cell_type": "markdown",
   "metadata": {},
   "source": [
    "### groupByKey\n",
    "\n",
    "The groupByKey method returns an RDD of pairs, where the first element in a pair is a key from the source RDD and the second element is a collection of all the values that have the same key. It is similar to the groupBy method that we saw earlier. The difference is that groupBy is a higher-order method that takes as input a function that returns a key for each element in the source RDD. The groupByKey method operates on an RDD of key-value pairs, so a key generator function is not required as input.\n",
    "\n",
    "** The groupByKey method should be avoided. It is an expensive operation since it may shuffle data. For most use cases, better alternatives are available. ** \n",
    "\n",
    "https://databricks.gitbooks.io/databricks-spark-knowledge-base/content/best_practices/prefer_reducebykey_over_groupbykey.html"
   ]
  },
  {
   "cell_type": "markdown",
   "metadata": {},
   "source": [
    "### join\n",
    "The join method takes an RDD of key-value pairs as input and performs an inner join on the source and input RDDs. It returns an RDD of pairs, where the first element in a pair is a key found in both source and input RDD and the second element is a tuple containing values mapped to that key in the source and input RDD."
   ]
  },
  {
   "cell_type": "code",
   "execution_count": 20,
   "metadata": {},
   "outputs": [
    {
     "data": {
      "text/plain": [
       "('5363', 1.0)"
      ]
     },
     "execution_count": 20,
     "metadata": {},
     "output_type": "execute_result"
    }
   ],
   "source": [
    "# We want to get the movie names, not just the code\n",
    "ratings_sum_rdd.first()"
   ]
  },
  {
   "cell_type": "code",
   "execution_count": 27,
   "metadata": {},
   "outputs": [],
   "source": [
    "# lucky for us, we have a table that translates these ids into actual movie names\n",
    "movies_names_rdd = sc.textFile(\"/home/fieldengineer/Documents/courses/architect_big_data_solutions_with_spark-master/Datasets//movielens/movies.csv\")\\\n",
    ".filter(lambda x: 'movieId' not in x)\\\n",
    ".map(lambda x: x.split(','))\\\n",
    ".map(lambda x: (x[0],x[1]))"
   ]
  },
  {
   "cell_type": "code",
   "execution_count": 28,
   "metadata": {},
   "outputs": [
    {
     "data": {
      "text/plain": [
       "[('1', 'Toy Story (1995)'),\n",
       " ('2', 'Jumanji (1995)'),\n",
       " ('3', 'Grumpier Old Men (1995)'),\n",
       " ('4', 'Waiting to Exhale (1995)'),\n",
       " ('5', 'Father of the Bride Part II (1995)'),\n",
       " ('6', 'Heat (1995)'),\n",
       " ('7', 'Sabrina (1995)'),\n",
       " ('8', 'Tom and Huck (1995)'),\n",
       " ('9', 'Sudden Death (1995)'),\n",
       " ('10', 'GoldenEye (1995)')]"
      ]
     },
     "execution_count": 28,
     "metadata": {},
     "output_type": "execute_result"
    }
   ],
   "source": [
    "movies_names_rdd.take(10)"
   ]
  },
  {
   "cell_type": "code",
   "execution_count": 29,
   "metadata": {},
   "outputs": [
    {
     "data": {
      "text/plain": [
       "[('6547', (1.0, 'Northfork (2003)')),\n",
       " ('7199', (1.0, 'Melvin Goes to Dinner (2003)')),\n",
       " ('65802', (1.0, 'Paul Blart: Mall Cop (2009)')),\n",
       " ('152057', (0.5, 'Miles Ahead (2016)')),\n",
       " ('155820', (1.0, 'Keanu (2016)')),\n",
       " ('160080', (1.0, 'Ghostbusters (2016)')),\n",
       " ('27376', (0.5, '\"Tunnel')),\n",
       " ('48660', (1.0, '\"Elementary Particles')),\n",
       " ('31290', (0.5, 'Beastmaster 2: Through the Portal of Time (1991)')),\n",
       " ('31431', (1.0, 'Boogeyman (2005)'))]"
      ]
     },
     "execution_count": 29,
     "metadata": {},
     "output_type": "execute_result"
    }
   ],
   "source": [
    "# We can use join to translate the code into names\n",
    "ratings_sum_rdd.join(movies_names_rdd).take(10)"
   ]
  },
  {
   "cell_type": "code",
   "execution_count": 30,
   "metadata": {},
   "outputs": [],
   "source": [
    "# we can keep only tha name of the movie and the rating\n",
    "movie_ratings_sum = ratings_sum_rdd.join(movies_names_rdd).map(lambda line: (line[1][1], line[1][0])).collect()"
   ]
  },
  {
   "cell_type": "code",
   "execution_count": 31,
   "metadata": {},
   "outputs": [
    {
     "data": {
      "text/plain": [
       "[('Miles Ahead (2016)', 0.5),\n",
       " ('\"Tunnel', 0.5),\n",
       " ('Beastmaster 2: Through the Portal of Time (1991)', 0.5),\n",
       " ('\"Grudge 3', 0.5),\n",
       " (\"Tyler Perry's Madea Goes to Jail (2009)\", 0.5),\n",
       " ('DysFunktional Family (2003)', 0.5),\n",
       " ('\"Front Page', 0.5),\n",
       " ('Envy (2004)', 0.5),\n",
       " ('Road Games (a.k.a. Roadgames) (1981)', 0.5),\n",
       " ('Libeled Lady (1936)', 0.5),\n",
       " ('\"End of Summer', 0.5),\n",
       " ('Shiver (Eskalofrío) (2008)', 0.5),\n",
       " ('Worth Winning (1989)', 0.5),\n",
       " ('One from the Heart (1982)', 0.5),\n",
       " ('Zombie Holocaust (a.k.a. Doctor Butcher M.D.) (Zombi Holocaust) (1980)',\n",
       "  0.5),\n",
       " ('\"Tarzan', 0.5),\n",
       " ('\"Follow Me', 0.5),\n",
       " ('Once Upon a Forest (1993)', 0.5),\n",
       " ('\"OH in Ohio', 0.5),\n",
       " ('Bangkok Dangerous (2008)', 0.5),\n",
       " ('\"Giant Spider Invasion', 0.5),\n",
       " ('Fifty Shades of Grey (2015)', 0.5),\n",
       " ('Trespass (2011)', 0.5),\n",
       " ('\"I', 0.5),\n",
       " ('Sunspring (2016)', 0.5),\n",
       " ('Yu-Gi-Oh! (2004)', 0.5),\n",
       " ('Witless Protection (2008)', 0.5),\n",
       " ('Troll 2 (1990)', 0.5),\n",
       " ('Werner - Beinhart! (1990)', 0.5),\n",
       " ('\"House of the Dead', 0.5),\n",
       " (\"'Neath the Arizona Skies (1934)\", 0.5),\n",
       " ('Amelia (2009)', 0.5),\n",
       " ('Roadkill (a.k.a. Roadkill: Move or Die) (1989)', 0.5),\n",
       " ('\"Burmese Harp', 0.5),\n",
       " ('\"Night of the Generals', 0.5),\n",
       " ('\"Rape of Europa', 0.5),\n",
       " (\"Shall We Kiss? (Un baiser s'il vous plait) (2007)\", 0.5),\n",
       " ('D-War (Dragon Wars) (2007)', 0.5),\n",
       " ('Cold Creek Manor (2003)', 0.5),\n",
       " ('\"Angel at My Table', 0.5),\n",
       " ('Rumble Fish (1983)', 0.5),\n",
       " ('Santa with Muscles (1996)', 0.5),\n",
       " ('Funny Lady (1975)', 0.5),\n",
       " ('Hells Angels on Wheels (1967)', 0.5),\n",
       " ('Arthur 2: On the Rocks (1988)', 0.5),\n",
       " ('Indestructible Man (1956)', 0.5),\n",
       " ('Superfast! (2015)', 0.5),\n",
       " ('\"Conspirator', 0.5),\n",
       " (\"Malibu's Most Wanted (2003)\", 0.5),\n",
       " ('Crossover (2006)', 0.5),\n",
       " ('\"Grudge 2', 0.5),\n",
       " ('Left Behind: World at War (2005)', 0.5),\n",
       " ('\"Hip Hop Witch', 0.5),\n",
       " ('\"Golem', 0.5),\n",
       " ('\"Henry V (Chronicle History of King Henry the Fift with His Battell Fought at Agincourt in France',\n",
       "  0.5),\n",
       " ('\"Heart Is a Lonely Hunter', 0.5),\n",
       " ('Waterloo Bridge (1940)', 0.5),\n",
       " ('Red Dust (1932)', 0.5),\n",
       " ('Behind the Mask: The Rise of Leslie Vernon (2006)', 0.5),\n",
       " ('Peter & the Wolf (2006)', 0.5),\n",
       " ('\"Adventures of Mary-Kate and Ashley', 0.5),\n",
       " ('Manos: The Hands of Fate (1966)', 0.5),\n",
       " ('\"Merry War', 0.5),\n",
       " ('Catfish in Black Bean Sauce (2000)', 0.5),\n",
       " ('Vamp (1986)', 0.5),\n",
       " ('Fraternity Vacation (1985)', 0.5),\n",
       " ('Daddy Day Camp (2007)', 0.5),\n",
       " ('\"Killer Shrews', 0.5),\n",
       " ('Ring of Terror (1962)', 0.5),\n",
       " ('Mitchell (1975)', 0.5),\n",
       " ('\"Giant Mechanical Man', 0.5),\n",
       " ('Approaching the Unknown (2016)', 0.5),\n",
       " ('Dance Flick (2009)', 0.5),\n",
       " ('Whiteboyz (1999)', 0.5),\n",
       " ('100 Rifles (1969)', 0.5),\n",
       " ('Karla (2006)', 0.5),\n",
       " (\"It's All About Love (2003)\", 0.5),\n",
       " ('Pokemon 4 Ever (a.k.a. Pokémon 4: The Movie) (2002)', 0.5),\n",
       " ('\"Green Ray', 0.5),\n",
       " ('As it is in Heaven (Så som i himmelen) (2004)', 0.5),\n",
       " ('\"First Day of the Rest of Your Life', 0.5),\n",
       " ('Stormbreaker (Alex Rider: Operation Stormbreaker) (2006)', 0.5),\n",
       " ('\"Principal', 0.5),\n",
       " ('The Boyfriend School (1990)', 0.5),\n",
       " ('\"Agony and the Ecstasy of Phil Spector', 0.5),\n",
       " ('Horrors of Spider Island (Ein Toter Hing im Netz) (1960)', 0.5),\n",
       " ('Northfork (2003)', 1.0),\n",
       " ('Melvin Goes to Dinner (2003)', 1.0),\n",
       " ('Paul Blart: Mall Cop (2009)', 1.0),\n",
       " ('Keanu (2016)', 1.0),\n",
       " ('Ghostbusters (2016)', 1.0),\n",
       " ('\"Elementary Particles', 1.0),\n",
       " ('Boogeyman (2005)', 1.0),\n",
       " ('Beverly Hills Chihuahua (2008)', 1.0),\n",
       " ('\"Broken Circle Breakdown', 1.0),\n",
       " ('Wanted (2009)', 1.0),\n",
       " ('The Scorpion King: Rise of a Warrior (2008)', 1.0),\n",
       " ('BloodRayne (2005)', 1.0),\n",
       " ('Igor (2008)', 1.0),\n",
       " ('\"Omen', 1.0),\n",
       " ('Shriek If You Know What I Did Last Friday the Thirteenth (2000)', 1.0),\n",
       " ('\"41-Year-Old Virgin Who Knocked Up Sarah Marshall and Felt Superbad About It',\n",
       "  1.0),\n",
       " ('All or Nothing (2002)', 1.0),\n",
       " ('Parineeta (2005)', 1.0),\n",
       " ('Step Up 2 the Streets (2008)', 1.0),\n",
       " ('Vice Versa (1988)', 1.0),\n",
       " ('Breaking and Entering (2006)', 1.0),\n",
       " ('Revenge of the Nerds II: Nerds in Paradise (1987)', 1.0),\n",
       " ('Ghost Rider: Spirit of Vengeance (2012)', 1.0),\n",
       " ('Kansas (1988)', 1.0),\n",
       " ('\"Luna', 1.0),\n",
       " ('\"Day After', 1.0),\n",
       " ('\"Santa Clause 3: The Escape Clause', 1.0),\n",
       " ('Amityville: A New Generation (1993)', 1.0),\n",
       " ('Phantasm IV: Oblivion (1998)', 1.0),\n",
       " ('Barabbas (1961)', 1.0),\n",
       " ('Read My Lips (Sur mes lèvres) (2001)', 1.0),\n",
       " ('Black Tar Heroin: The Dark End of the Street (2000)', 1.0),\n",
       " ('Nowhere to Hide (Injeong sajeong bol geot eobtda) (1999)', 1.0),\n",
       " ('Morgan! (1966)', 1.0),\n",
       " ('\"Gambler', 1.0),\n",
       " ('Beginning of the End (1957)', 1.0),\n",
       " ('This Island Earth (1955)', 1.0),\n",
       " ('Seventh Son (2014)', 1.0),\n",
       " ('Just Before I Go (2014)', 1.0),\n",
       " ('Sharknado 3: Oh Hell No! (2015)', 1.0),\n",
       " ('Barfly (1987)', 1.0),\n",
       " ('Clone (Womb) (2010)', 1.0),\n",
       " ('Marc Maron: Thinky Pain (2013)', 1.0),\n",
       " ('So Fine (1981)', 1.0),\n",
       " ('Breakfast of Champions (1999)', 1.0),\n",
       " ('Ernest Scared Stupid (1991)', 1.0),\n",
       " ('Starship Troopers 3: Marauder (2008)', 1.0),\n",
       " ('\"Crimson Rivers 2: Angels of the Apocalypse (Rivières pourpres II - Les anges de l\\'apocalypse',\n",
       "  1.0),\n",
       " ('\"Bolero (Uns et les autres', 1.0),\n",
       " ('Ju-on: The Grudge 2 (2003)', 1.0),\n",
       " ('Apartment 143 (2011)', 1.0),\n",
       " (\"Last Resort (National Lampoon's Last Resort) (1994)\", 1.0),\n",
       " ('Amityville: Dollhouse (1996)', 1.0),\n",
       " ('Deliver Us from Eva (2003)', 1.0),\n",
       " ('\"Amityville Curse', 1.0),\n",
       " ('Billy Liar (1963)', 1.0),\n",
       " ('Forgotten Silver (1996)', 1.0),\n",
       " ('Spiral (2000)', 1.0),\n",
       " ('Home Alone 4 (2002)', 1.0),\n",
       " ('Dangerous Game (1993)', 1.0),\n",
       " ('Two of a Kind (1983)', 1.0),\n",
       " ('\"Ciao', 1.0),\n",
       " ('Space Chimps (2008)', 1.0),\n",
       " ('\"Invisible Circus', 1.0),\n",
       " ('\"Superweib', 1.0),\n",
       " ('Tap (1989)', 1.0),\n",
       " ('Bad Timing: A Sensual Obsession (1980)', 1.0),\n",
       " ('Dirty Mary Crazy Larry (1974)', 1.0),\n",
       " ('Supernova (2000)', 1.0),\n",
       " ('Forbidden Zone (1980)', 1.0),\n",
       " ('\"Flower of My Secret', 1.0),\n",
       " (\"2 ou 3 choses que je sais d'elle (2 or 3 Things I Know About Her) (1967)\",\n",
       "  1.0),\n",
       " ('\"This World', 1.0),\n",
       " ('\"Seventh Heaven (Septième ciel', 1.0),\n",
       " ('Train of Life (Train de vie) (1998)', 1.0),\n",
       " ('Unmade Beds (1997)', 1.0),\n",
       " ('\"Diary of a Chambermaid (Journal d\\'une femme de chambre', 1.0),\n",
       " ('\"Experts', 1.0),\n",
       " ('\"Tale of Springtime', 1.0),\n",
       " ('The Big Sleep (1978)', 1.0),\n",
       " ('Gun Shy (2000)', 1.0),\n",
       " ('Screwed (2000)', 1.0),\n",
       " ('Big Top Pee-Wee (1988)', 1.0),\n",
       " ('Over the Top (1987)', 1.0),\n",
       " ('Tormented (1960)', 1.0),\n",
       " ('\"Clonus Horror', 1.0),\n",
       " ('The Boy Next Door (2015)', 1.0),\n",
       " ('Tracers (2015)', 1.0),\n",
       " ('Sword of Vengeance (2014)', 1.0),\n",
       " ('Body (2015)', 1.0),\n",
       " ('\"New Guy', 1.0),\n",
       " ('Dopamine (2003)', 1.0),\n",
       " ('Made in Dagenham (2010)', 1.0),\n",
       " ('Concussion (2015)', 1.0),\n",
       " ('Popstar: Never Stop Never Stopping (2016)', 1.0),\n",
       " ('Whore (1991)', 1.0),\n",
       " ('Burlesque (2010)', 1.0),\n",
       " ('SuperBabies: Baby Geniuses 2 (2004)', 1.0),\n",
       " ('Bratz: The Movie (2007)', 1.0),\n",
       " ('Vampires Suck (2010)', 1.0),\n",
       " ('On the Line (2001)', 1.0),\n",
       " ('Pauly Shore Is Dead (2003)', 1.0),\n",
       " ('Over the Edge (1979)', 1.0),\n",
       " ('Without a Paddle (2004)', 1.0),\n",
       " ('Hop (2011)', 1.0),\n",
       " ('\"Devil\\'s Chair', 1.0),\n",
       " ('Poltergeist (2015)', 1.0),\n",
       " ('National Security (2003)', 1.0),\n",
       " ('Hercules in New York (1970)', 1.0),\n",
       " ('Meatballs 4 (1992)', 1.0),\n",
       " ('Best of the Best 2 (1993)', 1.0),\n",
       " ('In the Bleak Midwinter (1995)', 1.0),\n",
       " ('...And God Spoke (1993)', 1.0),\n",
       " ('xXx: State of the Union (2005)', 1.0),\n",
       " ('T-Men (1947)', 1.0),\n",
       " ('Raising Cain (1992)', 1.0),\n",
       " ('200 Motels (1971)', 1.0),\n",
       " ('\"Savage Nights (Nuits fauves', 1.0),\n",
       " ('\"Yes', 1.0),\n",
       " ('Mr. Magoo (1997)', 1.0),\n",
       " ('Thomas and the Magic Railroad (2000)', 1.0),\n",
       " ('Dorm Daze (National Lampoon Presents Dorm Daze) (2003)', 1.0),\n",
       " ('Pauline & Paulette (Pauline en Paulette) (2001)', 1.0),\n",
       " ('Alias Betty (Betty Fisher et autres histoires) (2001)', 1.0),\n",
       " (\"When the Cat's Away (Chacun cherche son chat) (1996)\", 1.0),\n",
       " ('\"Separation', 1.0),\n",
       " (\"Salome's Last Dance (1988)\", 1.0),\n",
       " ('Tammy (2014)', 1.0),\n",
       " ('Search Party (2014)', 1.0),\n",
       " ('\"6th Man', 1.0),\n",
       " ('\"Girlfriend Experience', 1.0),\n",
       " ('Nostalghia (1983)', 1.0),\n",
       " ('Last Exit to Brooklyn (1989)', 1.0),\n",
       " ('Bring It On Again (2004)', 1.0),\n",
       " ('FearDotCom (a.k.a. Fear.com) (a.k.a. Fear Dot Com) (2002)', 1.0),\n",
       " ('Far Cry (2008)', 1.0),\n",
       " ('Death Wish 3 (1985)', 1.0),\n",
       " ('\"Shakiest Gun in the West', 1.0),\n",
       " ('Cube 2: Hypercube (2002)', 1.0),\n",
       " ('Turn It Up (2000)', 1.0),\n",
       " ('Lunacy (Sílení) (2006)', 1.0),\n",
       " ('Lake Mungo (2008)', 1.0),\n",
       " ('The Atticus Institute (2015)', 1.0),\n",
       " ('Contracted: Phase II (2015)', 1.0),\n",
       " ('Smiley Face (2007)', 1.0),\n",
       " ('Dog Park (1998)', 1.0),\n",
       " ('\"Guy Thing', 1.0),\n",
       " ('Dangerous Ground (1997)', 1.0),\n",
       " ('Wrong Turn 2: Dead End (2007)', 1.0),\n",
       " ('See Spot Run (2001)', 1.0),\n",
       " ('Final Destination 5 (2011)', 1.0),\n",
       " ('Man of the Year (1995)', 1.0),\n",
       " ('How to Be a Player (1997)', 1.0),\n",
       " (\"National Lampoon's Lady Killers (National Lampoon's Gold Diggers) (2003)\",\n",
       "  1.0),\n",
       " ('My Wife is an Actress (Ma Femme est une Actrice) (2001)', 1.0),\n",
       " ('\"Last Kiss', 1.0),\n",
       " ('Nightcap (Merci pour le chocolat) (2000)', 1.0),\n",
       " (\"How I Killed My Father (a.k.a. My Father and I) (Comment j'ai tué mon Père) (2001)\",\n",
       "  1.0),\n",
       " ('Twin Town (1997)', 1.0),\n",
       " ('Experience Preferred... But Not Essential (1982)', 1.0),\n",
       " ('For All Mankind (1989)', 1.0),\n",
       " ('How to Get Ahead in Advertising (1989)', 1.0),\n",
       " ('Promises (2001)', 1.0),\n",
       " ('\"Hour of the Pig', 1.0),\n",
       " ('\"Big Mommas: Like Father', 1.0),\n",
       " ('Getaway (2013)', 1.0),\n",
       " ('Inescapable (2012)', 1.0),\n",
       " ('Taken 3 (2015)', 1.0),\n",
       " ('Summer Catch (2001)', 1.0)]"
      ]
     },
     "execution_count": 31,
     "metadata": {},
     "output_type": "execute_result"
    }
   ],
   "source": [
    "# lets store it and print it sorted \n",
    "sorted(movie_ratings_sum, key=lambda x: x[1])"
   ]
  },
  {
   "cell_type": "markdown",
   "metadata": {},
   "source": [
    "### Can we really say these are the worst movies? \n",
    "#### No: Because we should also consider how many people voted, not the total sum!"
   ]
  },
  {
   "cell_type": "code",
   "execution_count": 22,
   "metadata": {},
   "outputs": [],
   "source": [
    "# This is your first excercise. Find the average movie rating per movie and print out a few of the lowest ones!\n",
    "# HINT: Create another RDD containing the count for each movie ratings made and then join over with the movie ratings sum rdd"
   ]
  }
 ],
 "metadata": {
  "kernelspec": {
   "display_name": "Python 3",
   "language": "python",
   "name": "python3"
  },
  "language_info": {
   "codemirror_mode": {
    "name": "ipython",
    "version": 3
   },
   "file_extension": ".py",
   "mimetype": "text/x-python",
   "name": "python",
   "nbconvert_exporter": "python",
   "pygments_lexer": "ipython3",
   "version": "3.6.9"
  },
  "name": "Spark Lab 4 Public",
  "notebookId": 2816521733007275
 },
 "nbformat": 4,
 "nbformat_minor": 1
}
