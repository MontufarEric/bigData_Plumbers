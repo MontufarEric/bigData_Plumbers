{
 "cells": [
  {
   "cell_type": "markdown",
   "metadata": {},
   "source": [
    "# Spring Boot "
   ]
  },
  {
   "cell_type": "markdown",
   "metadata": {},
   "source": [
    "spring boot is a java based framework to develop micro-services. This provides java developers a good platform to develop stand-alone production-grade applications. Spring Boot is built on the top of the Spring framework, and it comes with many dependencies out of the box that can be plugeed into the Spring application."
   ]
  },
  {
   "cell_type": "markdown",
   "metadata": {},
   "source": [
    "## What is a Micro Service? "
   ]
  },
  {
   "cell_type": "markdown",
   "metadata": {},
   "source": [
    "Micro service is an architecture that allows developer to deploy independet services in distributed applications. Each service has its own process and communicates with other services in the application. Thus, the result is an application splitted into a set of smaller interconnected services instead of building a single monolithic application.   "
   ]
  },
  {
   "cell_type": "markdown",
   "metadata": {},
   "source": [
    "Some of the benefits of using micro sevices are: \n",
    "\n",
    "- Decomposes the applications into a set of maneagable serevices that are faster to develop and mantain.\n",
    "\n",
    "- Enables each service to be developed independlently impoving continuous development. \n",
    "\n",
    "- Services can be scaled independently. \n",
    " "
   ]
  },
  {
   "cell_type": "markdown",
   "metadata": {},
   "source": [
    "![Micro Serivices Architecture](xenonstack-what-are-microservices.png)"
   ]
  },
  {
   "cell_type": "markdown",
   "metadata": {},
   "source": [
    "## Spring Boot and Micro Services\n",
    "\n",
    "Spring boot provides a good platform with many features that splove the development of microservices:\n",
    "\n",
    "- Autoconfiguration: Developers can automatically configure their application. \n",
    "\n",
    "- Standalone: There is no need to deploy your application to a web server. \n"
   ]
  },
  {
   "cell_type": "markdown",
   "metadata": {},
   "source": [
    "Spring boot helps you to get enterprise-level applications up and running quickly without having to worry about configuring your application correctly and safely. \n",
    "\n",
    "It is easy to add many plugins that developers can use to work with embedded and in-memory databases easily. Spring allows you to easily connect with database and queue services like Oracle, PostgreSQL, MySQL, MongoDB, Redis, Solr, ElasticSearch, Rabbit MQ, ActiveMQ, and many more."
   ]
  },
  {
   "cell_type": "markdown",
   "metadata": {},
   "source": [
    "## Disadvantages of Spring Boot "
   ]
  },
  {
   "cell_type": "markdown",
   "metadata": {},
   "source": [
    "The main struggle for developers when using Spring Boot is the lack of control you have. Spring adds many extra dependencies that sometimes go unused, which results in a very large binary file. "
   ]
  }
 ],
 "metadata": {
  "kernelspec": {
   "display_name": "Python 3",
   "language": "python",
   "name": "python3"
  },
  "language_info": {
   "codemirror_mode": {
    "name": "ipython",
    "version": 3
   },
   "file_extension": ".py",
   "mimetype": "text/x-python",
   "name": "python",
   "nbconvert_exporter": "python",
   "pygments_lexer": "ipython3",
   "version": "3.6.9"
  }
 },
 "nbformat": 4,
 "nbformat_minor": 4
}
